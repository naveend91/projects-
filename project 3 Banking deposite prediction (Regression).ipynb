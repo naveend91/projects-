{
 "cells": [
  {
   "cell_type": "code",
   "execution_count": 658,
   "id": "c075a70a",
   "metadata": {},
   "outputs": [],
   "source": [
    "#importing liabrary\n",
    "import numpy as np\n",
    "import pandas as pd\n",
    "import matplotlib.pyplot as plt\n",
    "import seaborn as sns\n",
    "import warnings\n",
    "warnings.filterwarnings(\"ignore\")"
   ]
  },
  {
   "cell_type": "code",
   "execution_count": 659,
   "id": "1af6e7d9",
   "metadata": {},
   "outputs": [],
   "source": [
    "# Loading data\n",
    "#Loading the data\n",
    "test = pd.read_csv(\"https://raw.githubusercontent.com/FlipRoboTechnologies/ML-Datasets/main/Bank%20Marketing/termdeposit_test.csv\")\n",
    "train = pd.read_csv(\"https://raw.githubusercontent.com/FlipRoboTechnologies/ML-Datasets/main/Bank%20Marketing/termdeposit_train.csv\")"
   ]
  },
  {
   "cell_type": "code",
   "execution_count": 660,
   "id": "0a47d982",
   "metadata": {},
   "outputs": [
    {
     "data": {
      "text/plain": [
       "(31647, 18)"
      ]
     },
     "execution_count": 660,
     "metadata": {},
     "output_type": "execute_result"
    }
   ],
   "source": [
    "#Cheking Shape of trin and test columns\n",
    "train.shape"
   ]
  },
  {
   "cell_type": "code",
   "execution_count": 661,
   "id": "7404c7be",
   "metadata": {},
   "outputs": [
    {
     "data": {
      "text/plain": [
       "(13564, 17)"
      ]
     },
     "execution_count": 661,
     "metadata": {},
     "output_type": "execute_result"
    }
   ],
   "source": [
    "#test data do not have subscrive(prediction value)so 17 columns\n",
    "test.shape"
   ]
  },
  {
   "cell_type": "code",
   "execution_count": 662,
   "id": "3559a8b2",
   "metadata": {},
   "outputs": [
    {
     "data": {
      "text/plain": [
       "Index(['ID', 'age', 'job', 'marital', 'education', 'default', 'balance',\n",
       "       'housing', 'loan', 'contact', 'day', 'month', 'duration', 'campaign',\n",
       "       'pdays', 'previous', 'poutcome'],\n",
       "      dtype='object')"
      ]
     },
     "execution_count": 662,
     "metadata": {},
     "output_type": "execute_result"
    }
   ],
   "source": [
    "#cheking columns\n",
    "test.columns"
   ]
  },
  {
   "cell_type": "code",
   "execution_count": 663,
   "id": "ba4febb8",
   "metadata": {},
   "outputs": [
    {
     "data": {
      "text/plain": [
       "Index(['ID', 'age', 'job', 'marital', 'education', 'default', 'balance',\n",
       "       'housing', 'loan', 'contact', 'day', 'month', 'duration', 'campaign',\n",
       "       'pdays', 'previous', 'poutcome', 'subscribed'],\n",
       "      dtype='object')"
      ]
     },
     "execution_count": 663,
     "metadata": {},
     "output_type": "execute_result"
    }
   ],
   "source": [
    "train.columns"
   ]
  },
  {
   "cell_type": "code",
   "execution_count": 664,
   "id": "59e9fa7f",
   "metadata": {},
   "outputs": [
    {
     "data": {
      "text/html": [
       "<div>\n",
       "<style scoped>\n",
       "    .dataframe tbody tr th:only-of-type {\n",
       "        vertical-align: middle;\n",
       "    }\n",
       "\n",
       "    .dataframe tbody tr th {\n",
       "        vertical-align: top;\n",
       "    }\n",
       "\n",
       "    .dataframe thead th {\n",
       "        text-align: right;\n",
       "    }\n",
       "</style>\n",
       "<table border=\"1\" class=\"dataframe\">\n",
       "  <thead>\n",
       "    <tr style=\"text-align: right;\">\n",
       "      <th></th>\n",
       "      <th>ID</th>\n",
       "      <th>age</th>\n",
       "      <th>balance</th>\n",
       "      <th>day</th>\n",
       "      <th>duration</th>\n",
       "      <th>campaign</th>\n",
       "      <th>pdays</th>\n",
       "      <th>previous</th>\n",
       "    </tr>\n",
       "  </thead>\n",
       "  <tbody>\n",
       "    <tr>\n",
       "      <th>count</th>\n",
       "      <td>31647.000000</td>\n",
       "      <td>31647.000000</td>\n",
       "      <td>31647.000000</td>\n",
       "      <td>31647.000000</td>\n",
       "      <td>31647.000000</td>\n",
       "      <td>31647.000000</td>\n",
       "      <td>31647.000000</td>\n",
       "      <td>31647.000000</td>\n",
       "    </tr>\n",
       "    <tr>\n",
       "      <th>mean</th>\n",
       "      <td>22563.972162</td>\n",
       "      <td>40.957247</td>\n",
       "      <td>1363.890258</td>\n",
       "      <td>15.835466</td>\n",
       "      <td>258.113534</td>\n",
       "      <td>2.765697</td>\n",
       "      <td>39.576042</td>\n",
       "      <td>0.574272</td>\n",
       "    </tr>\n",
       "    <tr>\n",
       "      <th>std</th>\n",
       "      <td>13075.936990</td>\n",
       "      <td>10.625134</td>\n",
       "      <td>3028.304293</td>\n",
       "      <td>8.337097</td>\n",
       "      <td>257.118973</td>\n",
       "      <td>3.113830</td>\n",
       "      <td>99.317592</td>\n",
       "      <td>2.422529</td>\n",
       "    </tr>\n",
       "    <tr>\n",
       "      <th>min</th>\n",
       "      <td>2.000000</td>\n",
       "      <td>18.000000</td>\n",
       "      <td>-8019.000000</td>\n",
       "      <td>1.000000</td>\n",
       "      <td>0.000000</td>\n",
       "      <td>1.000000</td>\n",
       "      <td>-1.000000</td>\n",
       "      <td>0.000000</td>\n",
       "    </tr>\n",
       "    <tr>\n",
       "      <th>25%</th>\n",
       "      <td>11218.000000</td>\n",
       "      <td>33.000000</td>\n",
       "      <td>73.000000</td>\n",
       "      <td>8.000000</td>\n",
       "      <td>104.000000</td>\n",
       "      <td>1.000000</td>\n",
       "      <td>-1.000000</td>\n",
       "      <td>0.000000</td>\n",
       "    </tr>\n",
       "    <tr>\n",
       "      <th>50%</th>\n",
       "      <td>22519.000000</td>\n",
       "      <td>39.000000</td>\n",
       "      <td>450.000000</td>\n",
       "      <td>16.000000</td>\n",
       "      <td>180.000000</td>\n",
       "      <td>2.000000</td>\n",
       "      <td>-1.000000</td>\n",
       "      <td>0.000000</td>\n",
       "    </tr>\n",
       "    <tr>\n",
       "      <th>75%</th>\n",
       "      <td>33879.500000</td>\n",
       "      <td>48.000000</td>\n",
       "      <td>1431.000000</td>\n",
       "      <td>21.000000</td>\n",
       "      <td>318.500000</td>\n",
       "      <td>3.000000</td>\n",
       "      <td>-1.000000</td>\n",
       "      <td>0.000000</td>\n",
       "    </tr>\n",
       "    <tr>\n",
       "      <th>max</th>\n",
       "      <td>45211.000000</td>\n",
       "      <td>95.000000</td>\n",
       "      <td>102127.000000</td>\n",
       "      <td>31.000000</td>\n",
       "      <td>4918.000000</td>\n",
       "      <td>63.000000</td>\n",
       "      <td>871.000000</td>\n",
       "      <td>275.000000</td>\n",
       "    </tr>\n",
       "  </tbody>\n",
       "</table>\n",
       "</div>"
      ],
      "text/plain": [
       "                 ID           age        balance           day      duration  \\\n",
       "count  31647.000000  31647.000000   31647.000000  31647.000000  31647.000000   \n",
       "mean   22563.972162     40.957247    1363.890258     15.835466    258.113534   \n",
       "std    13075.936990     10.625134    3028.304293      8.337097    257.118973   \n",
       "min        2.000000     18.000000   -8019.000000      1.000000      0.000000   \n",
       "25%    11218.000000     33.000000      73.000000      8.000000    104.000000   \n",
       "50%    22519.000000     39.000000     450.000000     16.000000    180.000000   \n",
       "75%    33879.500000     48.000000    1431.000000     21.000000    318.500000   \n",
       "max    45211.000000     95.000000  102127.000000     31.000000   4918.000000   \n",
       "\n",
       "           campaign         pdays      previous  \n",
       "count  31647.000000  31647.000000  31647.000000  \n",
       "mean       2.765697     39.576042      0.574272  \n",
       "std        3.113830     99.317592      2.422529  \n",
       "min        1.000000     -1.000000      0.000000  \n",
       "25%        1.000000     -1.000000      0.000000  \n",
       "50%        2.000000     -1.000000      0.000000  \n",
       "75%        3.000000     -1.000000      0.000000  \n",
       "max       63.000000    871.000000    275.000000  "
      ]
     },
     "execution_count": 664,
     "metadata": {},
     "output_type": "execute_result"
    }
   ],
   "source": [
    "train.describe()"
   ]
  },
  {
   "cell_type": "code",
   "execution_count": 665,
   "id": "a68aa347",
   "metadata": {},
   "outputs": [
    {
     "data": {
      "text/html": [
       "<div>\n",
       "<style scoped>\n",
       "    .dataframe tbody tr th:only-of-type {\n",
       "        vertical-align: middle;\n",
       "    }\n",
       "\n",
       "    .dataframe tbody tr th {\n",
       "        vertical-align: top;\n",
       "    }\n",
       "\n",
       "    .dataframe thead th {\n",
       "        text-align: right;\n",
       "    }\n",
       "</style>\n",
       "<table border=\"1\" class=\"dataframe\">\n",
       "  <thead>\n",
       "    <tr style=\"text-align: right;\">\n",
       "      <th></th>\n",
       "      <th>ID</th>\n",
       "      <th>age</th>\n",
       "      <th>balance</th>\n",
       "      <th>day</th>\n",
       "      <th>duration</th>\n",
       "      <th>campaign</th>\n",
       "      <th>pdays</th>\n",
       "      <th>previous</th>\n",
       "    </tr>\n",
       "  </thead>\n",
       "  <tbody>\n",
       "    <tr>\n",
       "      <th>count</th>\n",
       "      <td>13564.000000</td>\n",
       "      <td>13564.000000</td>\n",
       "      <td>13564.000000</td>\n",
       "      <td>13564.000000</td>\n",
       "      <td>13564.000000</td>\n",
       "      <td>13564.000000</td>\n",
       "      <td>13564.000000</td>\n",
       "      <td>13564.000000</td>\n",
       "    </tr>\n",
       "    <tr>\n",
       "      <th>mean</th>\n",
       "      <td>22704.057726</td>\n",
       "      <td>40.887128</td>\n",
       "      <td>1358.496535</td>\n",
       "      <td>15.738646</td>\n",
       "      <td>258.278679</td>\n",
       "      <td>2.759510</td>\n",
       "      <td>41.648555</td>\n",
       "      <td>0.594441</td>\n",
       "    </tr>\n",
       "    <tr>\n",
       "      <th>std</th>\n",
       "      <td>12994.043329</td>\n",
       "      <td>10.604108</td>\n",
       "      <td>3082.940623</td>\n",
       "      <td>8.288174</td>\n",
       "      <td>258.488648</td>\n",
       "      <td>3.060928</td>\n",
       "      <td>101.985178</td>\n",
       "      <td>1.998193</td>\n",
       "    </tr>\n",
       "    <tr>\n",
       "      <th>min</th>\n",
       "      <td>1.000000</td>\n",
       "      <td>18.000000</td>\n",
       "      <td>-3313.000000</td>\n",
       "      <td>1.000000</td>\n",
       "      <td>0.000000</td>\n",
       "      <td>1.000000</td>\n",
       "      <td>-1.000000</td>\n",
       "      <td>0.000000</td>\n",
       "    </tr>\n",
       "    <tr>\n",
       "      <th>25%</th>\n",
       "      <td>11546.000000</td>\n",
       "      <td>33.000000</td>\n",
       "      <td>71.000000</td>\n",
       "      <td>8.000000</td>\n",
       "      <td>102.000000</td>\n",
       "      <td>1.000000</td>\n",
       "      <td>-1.000000</td>\n",
       "      <td>0.000000</td>\n",
       "    </tr>\n",
       "    <tr>\n",
       "      <th>50%</th>\n",
       "      <td>22782.000000</td>\n",
       "      <td>39.000000</td>\n",
       "      <td>445.000000</td>\n",
       "      <td>16.000000</td>\n",
       "      <td>180.000000</td>\n",
       "      <td>2.000000</td>\n",
       "      <td>-1.000000</td>\n",
       "      <td>0.000000</td>\n",
       "    </tr>\n",
       "    <tr>\n",
       "      <th>75%</th>\n",
       "      <td>33974.250000</td>\n",
       "      <td>48.000000</td>\n",
       "      <td>1413.250000</td>\n",
       "      <td>21.000000</td>\n",
       "      <td>319.000000</td>\n",
       "      <td>3.000000</td>\n",
       "      <td>-1.000000</td>\n",
       "      <td>0.000000</td>\n",
       "    </tr>\n",
       "    <tr>\n",
       "      <th>max</th>\n",
       "      <td>45206.000000</td>\n",
       "      <td>95.000000</td>\n",
       "      <td>98417.000000</td>\n",
       "      <td>31.000000</td>\n",
       "      <td>3253.000000</td>\n",
       "      <td>58.000000</td>\n",
       "      <td>850.000000</td>\n",
       "      <td>55.000000</td>\n",
       "    </tr>\n",
       "  </tbody>\n",
       "</table>\n",
       "</div>"
      ],
      "text/plain": [
       "                 ID           age       balance           day      duration  \\\n",
       "count  13564.000000  13564.000000  13564.000000  13564.000000  13564.000000   \n",
       "mean   22704.057726     40.887128   1358.496535     15.738646    258.278679   \n",
       "std    12994.043329     10.604108   3082.940623      8.288174    258.488648   \n",
       "min        1.000000     18.000000  -3313.000000      1.000000      0.000000   \n",
       "25%    11546.000000     33.000000     71.000000      8.000000    102.000000   \n",
       "50%    22782.000000     39.000000    445.000000     16.000000    180.000000   \n",
       "75%    33974.250000     48.000000   1413.250000     21.000000    319.000000   \n",
       "max    45206.000000     95.000000  98417.000000     31.000000   3253.000000   \n",
       "\n",
       "           campaign         pdays      previous  \n",
       "count  13564.000000  13564.000000  13564.000000  \n",
       "mean       2.759510     41.648555      0.594441  \n",
       "std        3.060928    101.985178      1.998193  \n",
       "min        1.000000     -1.000000      0.000000  \n",
       "25%        1.000000     -1.000000      0.000000  \n",
       "50%        2.000000     -1.000000      0.000000  \n",
       "75%        3.000000     -1.000000      0.000000  \n",
       "max       58.000000    850.000000     55.000000  "
      ]
     },
     "execution_count": 665,
     "metadata": {},
     "output_type": "execute_result"
    }
   ],
   "source": [
    "# difference is on higher between 3rd qutile and max so may be outliers present \n",
    "test.describe()"
   ]
  },
  {
   "cell_type": "code",
   "execution_count": 666,
   "id": "c076b0b1",
   "metadata": {},
   "outputs": [
    {
     "name": "stdout",
     "output_type": "stream",
     "text": [
      "<class 'pandas.core.frame.DataFrame'>\n",
      "RangeIndex: 31647 entries, 0 to 31646\n",
      "Data columns (total 18 columns):\n",
      " #   Column      Non-Null Count  Dtype \n",
      "---  ------      --------------  ----- \n",
      " 0   ID          31647 non-null  int64 \n",
      " 1   age         31647 non-null  int64 \n",
      " 2   job         31647 non-null  object\n",
      " 3   marital     31647 non-null  object\n",
      " 4   education   31647 non-null  object\n",
      " 5   default     31647 non-null  object\n",
      " 6   balance     31647 non-null  int64 \n",
      " 7   housing     31647 non-null  object\n",
      " 8   loan        31647 non-null  object\n",
      " 9   contact     31647 non-null  object\n",
      " 10  day         31647 non-null  int64 \n",
      " 11  month       31647 non-null  object\n",
      " 12  duration    31647 non-null  int64 \n",
      " 13  campaign    31647 non-null  int64 \n",
      " 14  pdays       31647 non-null  int64 \n",
      " 15  previous    31647 non-null  int64 \n",
      " 16  poutcome    31647 non-null  object\n",
      " 17  subscribed  31647 non-null  object\n",
      "dtypes: int64(8), object(10)\n",
      "memory usage: 4.3+ MB\n"
     ]
    }
   ],
   "source": [
    "train.info()"
   ]
  },
  {
   "cell_type": "code",
   "execution_count": 667,
   "id": "1688eb2a",
   "metadata": {},
   "outputs": [
    {
     "name": "stdout",
     "output_type": "stream",
     "text": [
      "<class 'pandas.core.frame.DataFrame'>\n",
      "RangeIndex: 13564 entries, 0 to 13563\n",
      "Data columns (total 17 columns):\n",
      " #   Column     Non-Null Count  Dtype \n",
      "---  ------     --------------  ----- \n",
      " 0   ID         13564 non-null  int64 \n",
      " 1   age        13564 non-null  int64 \n",
      " 2   job        13564 non-null  object\n",
      " 3   marital    13564 non-null  object\n",
      " 4   education  13564 non-null  object\n",
      " 5   default    13564 non-null  object\n",
      " 6   balance    13564 non-null  int64 \n",
      " 7   housing    13564 non-null  object\n",
      " 8   loan       13564 non-null  object\n",
      " 9   contact    13564 non-null  object\n",
      " 10  day        13564 non-null  int64 \n",
      " 11  month      13564 non-null  object\n",
      " 12  duration   13564 non-null  int64 \n",
      " 13  campaign   13564 non-null  int64 \n",
      " 14  pdays      13564 non-null  int64 \n",
      " 15  previous   13564 non-null  int64 \n",
      " 16  poutcome   13564 non-null  object\n",
      "dtypes: int64(8), object(9)\n",
      "memory usage: 1.8+ MB\n"
     ]
    }
   ],
   "source": [
    "test.info()"
   ]
  },
  {
   "cell_type": "code",
   "execution_count": 668,
   "id": "142ad135",
   "metadata": {},
   "outputs": [
    {
     "data": {
      "text/html": [
       "<div>\n",
       "<style scoped>\n",
       "    .dataframe tbody tr th:only-of-type {\n",
       "        vertical-align: middle;\n",
       "    }\n",
       "\n",
       "    .dataframe tbody tr th {\n",
       "        vertical-align: top;\n",
       "    }\n",
       "\n",
       "    .dataframe thead th {\n",
       "        text-align: right;\n",
       "    }\n",
       "</style>\n",
       "<table border=\"1\" class=\"dataframe\">\n",
       "  <thead>\n",
       "    <tr style=\"text-align: right;\">\n",
       "      <th></th>\n",
       "      <th>ID</th>\n",
       "      <th>age</th>\n",
       "      <th>job</th>\n",
       "      <th>marital</th>\n",
       "      <th>education</th>\n",
       "      <th>default</th>\n",
       "      <th>balance</th>\n",
       "      <th>housing</th>\n",
       "      <th>loan</th>\n",
       "      <th>contact</th>\n",
       "      <th>day</th>\n",
       "      <th>month</th>\n",
       "      <th>duration</th>\n",
       "      <th>campaign</th>\n",
       "      <th>pdays</th>\n",
       "      <th>previous</th>\n",
       "      <th>poutcome</th>\n",
       "      <th>subscribed</th>\n",
       "    </tr>\n",
       "  </thead>\n",
       "  <tbody>\n",
       "    <tr>\n",
       "      <th>0</th>\n",
       "      <td>26110</td>\n",
       "      <td>56</td>\n",
       "      <td>admin.</td>\n",
       "      <td>married</td>\n",
       "      <td>unknown</td>\n",
       "      <td>no</td>\n",
       "      <td>1933</td>\n",
       "      <td>no</td>\n",
       "      <td>no</td>\n",
       "      <td>telephone</td>\n",
       "      <td>19</td>\n",
       "      <td>nov</td>\n",
       "      <td>44</td>\n",
       "      <td>2</td>\n",
       "      <td>-1</td>\n",
       "      <td>0</td>\n",
       "      <td>unknown</td>\n",
       "      <td>no</td>\n",
       "    </tr>\n",
       "    <tr>\n",
       "      <th>1</th>\n",
       "      <td>40576</td>\n",
       "      <td>31</td>\n",
       "      <td>unknown</td>\n",
       "      <td>married</td>\n",
       "      <td>secondary</td>\n",
       "      <td>no</td>\n",
       "      <td>3</td>\n",
       "      <td>no</td>\n",
       "      <td>no</td>\n",
       "      <td>cellular</td>\n",
       "      <td>20</td>\n",
       "      <td>jul</td>\n",
       "      <td>91</td>\n",
       "      <td>2</td>\n",
       "      <td>-1</td>\n",
       "      <td>0</td>\n",
       "      <td>unknown</td>\n",
       "      <td>no</td>\n",
       "    </tr>\n",
       "    <tr>\n",
       "      <th>2</th>\n",
       "      <td>15320</td>\n",
       "      <td>27</td>\n",
       "      <td>services</td>\n",
       "      <td>married</td>\n",
       "      <td>secondary</td>\n",
       "      <td>no</td>\n",
       "      <td>891</td>\n",
       "      <td>yes</td>\n",
       "      <td>no</td>\n",
       "      <td>cellular</td>\n",
       "      <td>18</td>\n",
       "      <td>jul</td>\n",
       "      <td>240</td>\n",
       "      <td>1</td>\n",
       "      <td>-1</td>\n",
       "      <td>0</td>\n",
       "      <td>unknown</td>\n",
       "      <td>no</td>\n",
       "    </tr>\n",
       "    <tr>\n",
       "      <th>3</th>\n",
       "      <td>43962</td>\n",
       "      <td>57</td>\n",
       "      <td>management</td>\n",
       "      <td>divorced</td>\n",
       "      <td>tertiary</td>\n",
       "      <td>no</td>\n",
       "      <td>3287</td>\n",
       "      <td>no</td>\n",
       "      <td>no</td>\n",
       "      <td>cellular</td>\n",
       "      <td>22</td>\n",
       "      <td>jun</td>\n",
       "      <td>867</td>\n",
       "      <td>1</td>\n",
       "      <td>84</td>\n",
       "      <td>3</td>\n",
       "      <td>success</td>\n",
       "      <td>yes</td>\n",
       "    </tr>\n",
       "    <tr>\n",
       "      <th>4</th>\n",
       "      <td>29842</td>\n",
       "      <td>31</td>\n",
       "      <td>technician</td>\n",
       "      <td>married</td>\n",
       "      <td>secondary</td>\n",
       "      <td>no</td>\n",
       "      <td>119</td>\n",
       "      <td>yes</td>\n",
       "      <td>no</td>\n",
       "      <td>cellular</td>\n",
       "      <td>4</td>\n",
       "      <td>feb</td>\n",
       "      <td>380</td>\n",
       "      <td>1</td>\n",
       "      <td>-1</td>\n",
       "      <td>0</td>\n",
       "      <td>unknown</td>\n",
       "      <td>no</td>\n",
       "    </tr>\n",
       "    <tr>\n",
       "      <th>5</th>\n",
       "      <td>29390</td>\n",
       "      <td>33</td>\n",
       "      <td>management</td>\n",
       "      <td>single</td>\n",
       "      <td>tertiary</td>\n",
       "      <td>no</td>\n",
       "      <td>0</td>\n",
       "      <td>yes</td>\n",
       "      <td>no</td>\n",
       "      <td>cellular</td>\n",
       "      <td>2</td>\n",
       "      <td>feb</td>\n",
       "      <td>116</td>\n",
       "      <td>3</td>\n",
       "      <td>-1</td>\n",
       "      <td>0</td>\n",
       "      <td>unknown</td>\n",
       "      <td>no</td>\n",
       "    </tr>\n",
       "    <tr>\n",
       "      <th>6</th>\n",
       "      <td>40444</td>\n",
       "      <td>56</td>\n",
       "      <td>retired</td>\n",
       "      <td>married</td>\n",
       "      <td>secondary</td>\n",
       "      <td>no</td>\n",
       "      <td>1044</td>\n",
       "      <td>no</td>\n",
       "      <td>no</td>\n",
       "      <td>telephone</td>\n",
       "      <td>3</td>\n",
       "      <td>jul</td>\n",
       "      <td>353</td>\n",
       "      <td>2</td>\n",
       "      <td>-1</td>\n",
       "      <td>0</td>\n",
       "      <td>unknown</td>\n",
       "      <td>yes</td>\n",
       "    </tr>\n",
       "    <tr>\n",
       "      <th>7</th>\n",
       "      <td>40194</td>\n",
       "      <td>50</td>\n",
       "      <td>technician</td>\n",
       "      <td>single</td>\n",
       "      <td>secondary</td>\n",
       "      <td>no</td>\n",
       "      <td>1811</td>\n",
       "      <td>no</td>\n",
       "      <td>no</td>\n",
       "      <td>cellular</td>\n",
       "      <td>8</td>\n",
       "      <td>jun</td>\n",
       "      <td>97</td>\n",
       "      <td>4</td>\n",
       "      <td>-1</td>\n",
       "      <td>0</td>\n",
       "      <td>unknown</td>\n",
       "      <td>no</td>\n",
       "    </tr>\n",
       "    <tr>\n",
       "      <th>8</th>\n",
       "      <td>29824</td>\n",
       "      <td>45</td>\n",
       "      <td>blue-collar</td>\n",
       "      <td>divorced</td>\n",
       "      <td>secondary</td>\n",
       "      <td>no</td>\n",
       "      <td>1951</td>\n",
       "      <td>yes</td>\n",
       "      <td>no</td>\n",
       "      <td>cellular</td>\n",
       "      <td>4</td>\n",
       "      <td>feb</td>\n",
       "      <td>692</td>\n",
       "      <td>1</td>\n",
       "      <td>-1</td>\n",
       "      <td>0</td>\n",
       "      <td>unknown</td>\n",
       "      <td>no</td>\n",
       "    </tr>\n",
       "    <tr>\n",
       "      <th>9</th>\n",
       "      <td>44676</td>\n",
       "      <td>35</td>\n",
       "      <td>admin.</td>\n",
       "      <td>married</td>\n",
       "      <td>secondary</td>\n",
       "      <td>no</td>\n",
       "      <td>1204</td>\n",
       "      <td>no</td>\n",
       "      <td>no</td>\n",
       "      <td>cellular</td>\n",
       "      <td>3</td>\n",
       "      <td>sep</td>\n",
       "      <td>789</td>\n",
       "      <td>2</td>\n",
       "      <td>-1</td>\n",
       "      <td>0</td>\n",
       "      <td>unknown</td>\n",
       "      <td>no</td>\n",
       "    </tr>\n",
       "  </tbody>\n",
       "</table>\n",
       "</div>"
      ],
      "text/plain": [
       "      ID  age          job   marital  education default  balance housing loan  \\\n",
       "0  26110   56       admin.   married    unknown      no     1933      no   no   \n",
       "1  40576   31      unknown   married  secondary      no        3      no   no   \n",
       "2  15320   27     services   married  secondary      no      891     yes   no   \n",
       "3  43962   57   management  divorced   tertiary      no     3287      no   no   \n",
       "4  29842   31   technician   married  secondary      no      119     yes   no   \n",
       "5  29390   33   management    single   tertiary      no        0     yes   no   \n",
       "6  40444   56      retired   married  secondary      no     1044      no   no   \n",
       "7  40194   50   technician    single  secondary      no     1811      no   no   \n",
       "8  29824   45  blue-collar  divorced  secondary      no     1951     yes   no   \n",
       "9  44676   35       admin.   married  secondary      no     1204      no   no   \n",
       "\n",
       "     contact  day month  duration  campaign  pdays  previous poutcome  \\\n",
       "0  telephone   19   nov        44         2     -1         0  unknown   \n",
       "1   cellular   20   jul        91         2     -1         0  unknown   \n",
       "2   cellular   18   jul       240         1     -1         0  unknown   \n",
       "3   cellular   22   jun       867         1     84         3  success   \n",
       "4   cellular    4   feb       380         1     -1         0  unknown   \n",
       "5   cellular    2   feb       116         3     -1         0  unknown   \n",
       "6  telephone    3   jul       353         2     -1         0  unknown   \n",
       "7   cellular    8   jun        97         4     -1         0  unknown   \n",
       "8   cellular    4   feb       692         1     -1         0  unknown   \n",
       "9   cellular    3   sep       789         2     -1         0  unknown   \n",
       "\n",
       "  subscribed  \n",
       "0         no  \n",
       "1         no  \n",
       "2         no  \n",
       "3        yes  \n",
       "4         no  \n",
       "5         no  \n",
       "6        yes  \n",
       "7         no  \n",
       "8         no  \n",
       "9         no  "
      ]
     },
     "execution_count": 668,
     "metadata": {},
     "output_type": "execute_result"
    }
   ],
   "source": [
    "#EDA\n",
    "train.head(10)"
   ]
  },
  {
   "cell_type": "code",
   "execution_count": 669,
   "id": "ae59222c",
   "metadata": {},
   "outputs": [
    {
     "data": {
      "text/html": [
       "<div>\n",
       "<style scoped>\n",
       "    .dataframe tbody tr th:only-of-type {\n",
       "        vertical-align: middle;\n",
       "    }\n",
       "\n",
       "    .dataframe tbody tr th {\n",
       "        vertical-align: top;\n",
       "    }\n",
       "\n",
       "    .dataframe thead th {\n",
       "        text-align: right;\n",
       "    }\n",
       "</style>\n",
       "<table border=\"1\" class=\"dataframe\">\n",
       "  <thead>\n",
       "    <tr style=\"text-align: right;\">\n",
       "      <th></th>\n",
       "      <th>ID</th>\n",
       "      <th>age</th>\n",
       "      <th>job</th>\n",
       "      <th>marital</th>\n",
       "      <th>education</th>\n",
       "      <th>default</th>\n",
       "      <th>balance</th>\n",
       "      <th>housing</th>\n",
       "      <th>loan</th>\n",
       "      <th>contact</th>\n",
       "      <th>day</th>\n",
       "      <th>month</th>\n",
       "      <th>duration</th>\n",
       "      <th>campaign</th>\n",
       "      <th>pdays</th>\n",
       "      <th>previous</th>\n",
       "      <th>poutcome</th>\n",
       "    </tr>\n",
       "  </thead>\n",
       "  <tbody>\n",
       "    <tr>\n",
       "      <th>0</th>\n",
       "      <td>38441</td>\n",
       "      <td>32</td>\n",
       "      <td>services</td>\n",
       "      <td>married</td>\n",
       "      <td>secondary</td>\n",
       "      <td>no</td>\n",
       "      <td>118</td>\n",
       "      <td>yes</td>\n",
       "      <td>no</td>\n",
       "      <td>cellular</td>\n",
       "      <td>15</td>\n",
       "      <td>may</td>\n",
       "      <td>20</td>\n",
       "      <td>6</td>\n",
       "      <td>-1</td>\n",
       "      <td>0</td>\n",
       "      <td>unknown</td>\n",
       "    </tr>\n",
       "    <tr>\n",
       "      <th>1</th>\n",
       "      <td>40403</td>\n",
       "      <td>78</td>\n",
       "      <td>retired</td>\n",
       "      <td>divorced</td>\n",
       "      <td>primary</td>\n",
       "      <td>no</td>\n",
       "      <td>2787</td>\n",
       "      <td>no</td>\n",
       "      <td>no</td>\n",
       "      <td>telephone</td>\n",
       "      <td>1</td>\n",
       "      <td>jul</td>\n",
       "      <td>372</td>\n",
       "      <td>1</td>\n",
       "      <td>-1</td>\n",
       "      <td>0</td>\n",
       "      <td>unknown</td>\n",
       "    </tr>\n",
       "    <tr>\n",
       "      <th>2</th>\n",
       "      <td>3709</td>\n",
       "      <td>31</td>\n",
       "      <td>self-employed</td>\n",
       "      <td>single</td>\n",
       "      <td>tertiary</td>\n",
       "      <td>no</td>\n",
       "      <td>144</td>\n",
       "      <td>yes</td>\n",
       "      <td>no</td>\n",
       "      <td>unknown</td>\n",
       "      <td>16</td>\n",
       "      <td>may</td>\n",
       "      <td>676</td>\n",
       "      <td>1</td>\n",
       "      <td>-1</td>\n",
       "      <td>0</td>\n",
       "      <td>unknown</td>\n",
       "    </tr>\n",
       "    <tr>\n",
       "      <th>3</th>\n",
       "      <td>37422</td>\n",
       "      <td>57</td>\n",
       "      <td>services</td>\n",
       "      <td>single</td>\n",
       "      <td>primary</td>\n",
       "      <td>no</td>\n",
       "      <td>3777</td>\n",
       "      <td>yes</td>\n",
       "      <td>no</td>\n",
       "      <td>telephone</td>\n",
       "      <td>13</td>\n",
       "      <td>may</td>\n",
       "      <td>65</td>\n",
       "      <td>2</td>\n",
       "      <td>-1</td>\n",
       "      <td>0</td>\n",
       "      <td>unknown</td>\n",
       "    </tr>\n",
       "    <tr>\n",
       "      <th>4</th>\n",
       "      <td>12527</td>\n",
       "      <td>45</td>\n",
       "      <td>blue-collar</td>\n",
       "      <td>divorced</td>\n",
       "      <td>secondary</td>\n",
       "      <td>no</td>\n",
       "      <td>-705</td>\n",
       "      <td>no</td>\n",
       "      <td>yes</td>\n",
       "      <td>unknown</td>\n",
       "      <td>3</td>\n",
       "      <td>jul</td>\n",
       "      <td>111</td>\n",
       "      <td>1</td>\n",
       "      <td>-1</td>\n",
       "      <td>0</td>\n",
       "      <td>unknown</td>\n",
       "    </tr>\n",
       "    <tr>\n",
       "      <th>5</th>\n",
       "      <td>16013</td>\n",
       "      <td>32</td>\n",
       "      <td>management</td>\n",
       "      <td>single</td>\n",
       "      <td>tertiary</td>\n",
       "      <td>no</td>\n",
       "      <td>0</td>\n",
       "      <td>yes</td>\n",
       "      <td>no</td>\n",
       "      <td>cellular</td>\n",
       "      <td>22</td>\n",
       "      <td>jul</td>\n",
       "      <td>455</td>\n",
       "      <td>2</td>\n",
       "      <td>-1</td>\n",
       "      <td>0</td>\n",
       "      <td>unknown</td>\n",
       "    </tr>\n",
       "    <tr>\n",
       "      <th>6</th>\n",
       "      <td>196</td>\n",
       "      <td>33</td>\n",
       "      <td>blue-collar</td>\n",
       "      <td>single</td>\n",
       "      <td>secondary</td>\n",
       "      <td>no</td>\n",
       "      <td>307</td>\n",
       "      <td>yes</td>\n",
       "      <td>no</td>\n",
       "      <td>unknown</td>\n",
       "      <td>5</td>\n",
       "      <td>may</td>\n",
       "      <td>309</td>\n",
       "      <td>2</td>\n",
       "      <td>-1</td>\n",
       "      <td>0</td>\n",
       "      <td>unknown</td>\n",
       "    </tr>\n",
       "    <tr>\n",
       "      <th>7</th>\n",
       "      <td>8516</td>\n",
       "      <td>37</td>\n",
       "      <td>management</td>\n",
       "      <td>married</td>\n",
       "      <td>secondary</td>\n",
       "      <td>no</td>\n",
       "      <td>341</td>\n",
       "      <td>no</td>\n",
       "      <td>no</td>\n",
       "      <td>unknown</td>\n",
       "      <td>3</td>\n",
       "      <td>jun</td>\n",
       "      <td>120</td>\n",
       "      <td>2</td>\n",
       "      <td>-1</td>\n",
       "      <td>0</td>\n",
       "      <td>unknown</td>\n",
       "    </tr>\n",
       "    <tr>\n",
       "      <th>8</th>\n",
       "      <td>31208</td>\n",
       "      <td>36</td>\n",
       "      <td>technician</td>\n",
       "      <td>divorced</td>\n",
       "      <td>tertiary</td>\n",
       "      <td>no</td>\n",
       "      <td>1381</td>\n",
       "      <td>no</td>\n",
       "      <td>no</td>\n",
       "      <td>cellular</td>\n",
       "      <td>2</td>\n",
       "      <td>mar</td>\n",
       "      <td>149</td>\n",
       "      <td>1</td>\n",
       "      <td>-1</td>\n",
       "      <td>0</td>\n",
       "      <td>unknown</td>\n",
       "    </tr>\n",
       "    <tr>\n",
       "      <th>9</th>\n",
       "      <td>38462</td>\n",
       "      <td>50</td>\n",
       "      <td>admin.</td>\n",
       "      <td>single</td>\n",
       "      <td>primary</td>\n",
       "      <td>no</td>\n",
       "      <td>181</td>\n",
       "      <td>yes</td>\n",
       "      <td>no</td>\n",
       "      <td>cellular</td>\n",
       "      <td>15</td>\n",
       "      <td>may</td>\n",
       "      <td>119</td>\n",
       "      <td>4</td>\n",
       "      <td>372</td>\n",
       "      <td>3</td>\n",
       "      <td>failure</td>\n",
       "    </tr>\n",
       "  </tbody>\n",
       "</table>\n",
       "</div>"
      ],
      "text/plain": [
       "      ID  age            job   marital  education default  balance housing  \\\n",
       "0  38441   32       services   married  secondary      no      118     yes   \n",
       "1  40403   78        retired  divorced    primary      no     2787      no   \n",
       "2   3709   31  self-employed    single   tertiary      no      144     yes   \n",
       "3  37422   57       services    single    primary      no     3777     yes   \n",
       "4  12527   45    blue-collar  divorced  secondary      no     -705      no   \n",
       "5  16013   32     management    single   tertiary      no        0     yes   \n",
       "6    196   33    blue-collar    single  secondary      no      307     yes   \n",
       "7   8516   37     management   married  secondary      no      341      no   \n",
       "8  31208   36     technician  divorced   tertiary      no     1381      no   \n",
       "9  38462   50         admin.    single    primary      no      181     yes   \n",
       "\n",
       "  loan    contact  day month  duration  campaign  pdays  previous poutcome  \n",
       "0   no   cellular   15   may        20         6     -1         0  unknown  \n",
       "1   no  telephone    1   jul       372         1     -1         0  unknown  \n",
       "2   no    unknown   16   may       676         1     -1         0  unknown  \n",
       "3   no  telephone   13   may        65         2     -1         0  unknown  \n",
       "4  yes    unknown    3   jul       111         1     -1         0  unknown  \n",
       "5   no   cellular   22   jul       455         2     -1         0  unknown  \n",
       "6   no    unknown    5   may       309         2     -1         0  unknown  \n",
       "7   no    unknown    3   jun       120         2     -1         0  unknown  \n",
       "8   no   cellular    2   mar       149         1     -1         0  unknown  \n",
       "9   no   cellular   15   may       119         4    372         3  failure  "
      ]
     },
     "execution_count": 669,
     "metadata": {},
     "output_type": "execute_result"
    }
   ],
   "source": [
    "test.head(10)"
   ]
  },
  {
   "cell_type": "code",
   "execution_count": 670,
   "id": "cf6b75b0",
   "metadata": {},
   "outputs": [
    {
     "data": {
      "text/html": [
       "<div>\n",
       "<style scoped>\n",
       "    .dataframe tbody tr th:only-of-type {\n",
       "        vertical-align: middle;\n",
       "    }\n",
       "\n",
       "    .dataframe tbody tr th {\n",
       "        vertical-align: top;\n",
       "    }\n",
       "\n",
       "    .dataframe thead th {\n",
       "        text-align: right;\n",
       "    }\n",
       "</style>\n",
       "<table border=\"1\" class=\"dataframe\">\n",
       "  <thead>\n",
       "    <tr style=\"text-align: right;\">\n",
       "      <th></th>\n",
       "      <th>ID</th>\n",
       "      <th>age</th>\n",
       "      <th>job</th>\n",
       "      <th>marital</th>\n",
       "      <th>education</th>\n",
       "      <th>default</th>\n",
       "      <th>balance</th>\n",
       "      <th>housing</th>\n",
       "      <th>loan</th>\n",
       "      <th>contact</th>\n",
       "      <th>day</th>\n",
       "      <th>month</th>\n",
       "      <th>duration</th>\n",
       "      <th>campaign</th>\n",
       "      <th>pdays</th>\n",
       "      <th>previous</th>\n",
       "      <th>poutcome</th>\n",
       "    </tr>\n",
       "  </thead>\n",
       "  <tbody>\n",
       "    <tr>\n",
       "      <th>13559</th>\n",
       "      <td>23465</td>\n",
       "      <td>39</td>\n",
       "      <td>management</td>\n",
       "      <td>married</td>\n",
       "      <td>tertiary</td>\n",
       "      <td>no</td>\n",
       "      <td>45</td>\n",
       "      <td>no</td>\n",
       "      <td>no</td>\n",
       "      <td>cellular</td>\n",
       "      <td>28</td>\n",
       "      <td>aug</td>\n",
       "      <td>148</td>\n",
       "      <td>4</td>\n",
       "      <td>-1</td>\n",
       "      <td>0</td>\n",
       "      <td>unknown</td>\n",
       "    </tr>\n",
       "    <tr>\n",
       "      <th>13560</th>\n",
       "      <td>11743</td>\n",
       "      <td>54</td>\n",
       "      <td>blue-collar</td>\n",
       "      <td>married</td>\n",
       "      <td>primary</td>\n",
       "      <td>no</td>\n",
       "      <td>2281</td>\n",
       "      <td>yes</td>\n",
       "      <td>no</td>\n",
       "      <td>unknown</td>\n",
       "      <td>20</td>\n",
       "      <td>jun</td>\n",
       "      <td>158</td>\n",
       "      <td>1</td>\n",
       "      <td>-1</td>\n",
       "      <td>0</td>\n",
       "      <td>unknown</td>\n",
       "    </tr>\n",
       "    <tr>\n",
       "      <th>13561</th>\n",
       "      <td>28292</td>\n",
       "      <td>35</td>\n",
       "      <td>retired</td>\n",
       "      <td>married</td>\n",
       "      <td>primary</td>\n",
       "      <td>no</td>\n",
       "      <td>285</td>\n",
       "      <td>yes</td>\n",
       "      <td>no</td>\n",
       "      <td>cellular</td>\n",
       "      <td>29</td>\n",
       "      <td>jan</td>\n",
       "      <td>136</td>\n",
       "      <td>1</td>\n",
       "      <td>-1</td>\n",
       "      <td>0</td>\n",
       "      <td>unknown</td>\n",
       "    </tr>\n",
       "    <tr>\n",
       "      <th>13562</th>\n",
       "      <td>45163</td>\n",
       "      <td>29</td>\n",
       "      <td>admin.</td>\n",
       "      <td>single</td>\n",
       "      <td>secondary</td>\n",
       "      <td>no</td>\n",
       "      <td>464</td>\n",
       "      <td>no</td>\n",
       "      <td>no</td>\n",
       "      <td>cellular</td>\n",
       "      <td>9</td>\n",
       "      <td>nov</td>\n",
       "      <td>208</td>\n",
       "      <td>2</td>\n",
       "      <td>91</td>\n",
       "      <td>3</td>\n",
       "      <td>success</td>\n",
       "    </tr>\n",
       "    <tr>\n",
       "      <th>13563</th>\n",
       "      <td>34839</td>\n",
       "      <td>29</td>\n",
       "      <td>admin.</td>\n",
       "      <td>married</td>\n",
       "      <td>secondary</td>\n",
       "      <td>no</td>\n",
       "      <td>2</td>\n",
       "      <td>yes</td>\n",
       "      <td>no</td>\n",
       "      <td>cellular</td>\n",
       "      <td>6</td>\n",
       "      <td>may</td>\n",
       "      <td>339</td>\n",
       "      <td>1</td>\n",
       "      <td>362</td>\n",
       "      <td>1</td>\n",
       "      <td>failure</td>\n",
       "    </tr>\n",
       "  </tbody>\n",
       "</table>\n",
       "</div>"
      ],
      "text/plain": [
       "          ID  age          job  marital  education default  balance housing  \\\n",
       "13559  23465   39   management  married   tertiary      no       45      no   \n",
       "13560  11743   54  blue-collar  married    primary      no     2281     yes   \n",
       "13561  28292   35      retired  married    primary      no      285     yes   \n",
       "13562  45163   29       admin.   single  secondary      no      464      no   \n",
       "13563  34839   29       admin.  married  secondary      no        2     yes   \n",
       "\n",
       "      loan   contact  day month  duration  campaign  pdays  previous poutcome  \n",
       "13559   no  cellular   28   aug       148         4     -1         0  unknown  \n",
       "13560   no   unknown   20   jun       158         1     -1         0  unknown  \n",
       "13561   no  cellular   29   jan       136         1     -1         0  unknown  \n",
       "13562   no  cellular    9   nov       208         2     91         3  success  \n",
       "13563   no  cellular    6   may       339         1    362         1  failure  "
      ]
     },
     "execution_count": 670,
     "metadata": {},
     "output_type": "execute_result"
    }
   ],
   "source": [
    "#to see last 5\n",
    "test.tail()"
   ]
  },
  {
   "cell_type": "code",
   "execution_count": 671,
   "id": "9cfa9cfb",
   "metadata": {},
   "outputs": [
    {
     "data": {
      "text/html": [
       "<div>\n",
       "<style scoped>\n",
       "    .dataframe tbody tr th:only-of-type {\n",
       "        vertical-align: middle;\n",
       "    }\n",
       "\n",
       "    .dataframe tbody tr th {\n",
       "        vertical-align: top;\n",
       "    }\n",
       "\n",
       "    .dataframe thead th {\n",
       "        text-align: right;\n",
       "    }\n",
       "</style>\n",
       "<table border=\"1\" class=\"dataframe\">\n",
       "  <thead>\n",
       "    <tr style=\"text-align: right;\">\n",
       "      <th></th>\n",
       "      <th>ID</th>\n",
       "      <th>age</th>\n",
       "      <th>job</th>\n",
       "      <th>marital</th>\n",
       "      <th>education</th>\n",
       "      <th>default</th>\n",
       "      <th>balance</th>\n",
       "      <th>housing</th>\n",
       "      <th>loan</th>\n",
       "      <th>contact</th>\n",
       "      <th>day</th>\n",
       "      <th>month</th>\n",
       "      <th>duration</th>\n",
       "      <th>campaign</th>\n",
       "      <th>pdays</th>\n",
       "      <th>previous</th>\n",
       "      <th>poutcome</th>\n",
       "      <th>subscribed</th>\n",
       "    </tr>\n",
       "  </thead>\n",
       "  <tbody>\n",
       "    <tr>\n",
       "      <th>31642</th>\n",
       "      <td>36483</td>\n",
       "      <td>29</td>\n",
       "      <td>management</td>\n",
       "      <td>single</td>\n",
       "      <td>tertiary</td>\n",
       "      <td>no</td>\n",
       "      <td>0</td>\n",
       "      <td>yes</td>\n",
       "      <td>no</td>\n",
       "      <td>cellular</td>\n",
       "      <td>12</td>\n",
       "      <td>may</td>\n",
       "      <td>116</td>\n",
       "      <td>2</td>\n",
       "      <td>-1</td>\n",
       "      <td>0</td>\n",
       "      <td>unknown</td>\n",
       "      <td>no</td>\n",
       "    </tr>\n",
       "    <tr>\n",
       "      <th>31643</th>\n",
       "      <td>40178</td>\n",
       "      <td>53</td>\n",
       "      <td>management</td>\n",
       "      <td>divorced</td>\n",
       "      <td>tertiary</td>\n",
       "      <td>no</td>\n",
       "      <td>380</td>\n",
       "      <td>no</td>\n",
       "      <td>yes</td>\n",
       "      <td>cellular</td>\n",
       "      <td>5</td>\n",
       "      <td>jun</td>\n",
       "      <td>438</td>\n",
       "      <td>2</td>\n",
       "      <td>-1</td>\n",
       "      <td>0</td>\n",
       "      <td>unknown</td>\n",
       "      <td>yes</td>\n",
       "    </tr>\n",
       "    <tr>\n",
       "      <th>31644</th>\n",
       "      <td>19710</td>\n",
       "      <td>32</td>\n",
       "      <td>management</td>\n",
       "      <td>single</td>\n",
       "      <td>tertiary</td>\n",
       "      <td>no</td>\n",
       "      <td>312</td>\n",
       "      <td>no</td>\n",
       "      <td>no</td>\n",
       "      <td>cellular</td>\n",
       "      <td>7</td>\n",
       "      <td>aug</td>\n",
       "      <td>37</td>\n",
       "      <td>3</td>\n",
       "      <td>-1</td>\n",
       "      <td>0</td>\n",
       "      <td>unknown</td>\n",
       "      <td>no</td>\n",
       "    </tr>\n",
       "    <tr>\n",
       "      <th>31645</th>\n",
       "      <td>38556</td>\n",
       "      <td>57</td>\n",
       "      <td>technician</td>\n",
       "      <td>married</td>\n",
       "      <td>secondary</td>\n",
       "      <td>no</td>\n",
       "      <td>225</td>\n",
       "      <td>yes</td>\n",
       "      <td>no</td>\n",
       "      <td>telephone</td>\n",
       "      <td>15</td>\n",
       "      <td>may</td>\n",
       "      <td>22</td>\n",
       "      <td>7</td>\n",
       "      <td>337</td>\n",
       "      <td>12</td>\n",
       "      <td>failure</td>\n",
       "      <td>no</td>\n",
       "    </tr>\n",
       "    <tr>\n",
       "      <th>31646</th>\n",
       "      <td>14156</td>\n",
       "      <td>55</td>\n",
       "      <td>management</td>\n",
       "      <td>divorced</td>\n",
       "      <td>secondary</td>\n",
       "      <td>no</td>\n",
       "      <td>204</td>\n",
       "      <td>yes</td>\n",
       "      <td>no</td>\n",
       "      <td>cellular</td>\n",
       "      <td>11</td>\n",
       "      <td>jul</td>\n",
       "      <td>1973</td>\n",
       "      <td>2</td>\n",
       "      <td>-1</td>\n",
       "      <td>0</td>\n",
       "      <td>unknown</td>\n",
       "      <td>yes</td>\n",
       "    </tr>\n",
       "  </tbody>\n",
       "</table>\n",
       "</div>"
      ],
      "text/plain": [
       "          ID  age         job   marital  education default  balance housing  \\\n",
       "31642  36483   29  management    single   tertiary      no        0     yes   \n",
       "31643  40178   53  management  divorced   tertiary      no      380      no   \n",
       "31644  19710   32  management    single   tertiary      no      312      no   \n",
       "31645  38556   57  technician   married  secondary      no      225     yes   \n",
       "31646  14156   55  management  divorced  secondary      no      204     yes   \n",
       "\n",
       "      loan    contact  day month  duration  campaign  pdays  previous  \\\n",
       "31642   no   cellular   12   may       116         2     -1         0   \n",
       "31643  yes   cellular    5   jun       438         2     -1         0   \n",
       "31644   no   cellular    7   aug        37         3     -1         0   \n",
       "31645   no  telephone   15   may        22         7    337        12   \n",
       "31646   no   cellular   11   jul      1973         2     -1         0   \n",
       "\n",
       "      poutcome subscribed  \n",
       "31642  unknown         no  \n",
       "31643  unknown        yes  \n",
       "31644  unknown         no  \n",
       "31645  failure         no  \n",
       "31646  unknown        yes  "
      ]
     },
     "execution_count": 671,
     "metadata": {},
     "output_type": "execute_result"
    }
   ],
   "source": [
    "train.tail()"
   ]
  },
  {
   "cell_type": "code",
   "execution_count": 672,
   "id": "54df1b80",
   "metadata": {},
   "outputs": [],
   "source": [
    "# our targer varibale is categorical form and most are the columns are in categogory/word so we use ordinal encoder later"
   ]
  },
  {
   "cell_type": "code",
   "execution_count": 673,
   "id": "c63adc2a",
   "metadata": {},
   "outputs": [
    {
     "data": {
      "text/plain": [
       "ID            0\n",
       "age           0\n",
       "job           0\n",
       "marital       0\n",
       "education     0\n",
       "default       0\n",
       "balance       0\n",
       "housing       0\n",
       "loan          0\n",
       "contact       0\n",
       "day           0\n",
       "month         0\n",
       "duration      0\n",
       "campaign      0\n",
       "pdays         0\n",
       "previous      0\n",
       "poutcome      0\n",
       "subscribed    0\n",
       "dtype: int64"
      ]
     },
     "execution_count": 673,
     "metadata": {},
     "output_type": "execute_result"
    }
   ],
   "source": [
    "#Checking Null Values\n",
    "train.isnull().sum()"
   ]
  },
  {
   "cell_type": "code",
   "execution_count": 674,
   "id": "4c2794cb",
   "metadata": {},
   "outputs": [
    {
     "data": {
      "text/plain": [
       "ID           0\n",
       "age          0\n",
       "job          0\n",
       "marital      0\n",
       "education    0\n",
       "default      0\n",
       "balance      0\n",
       "housing      0\n",
       "loan         0\n",
       "contact      0\n",
       "day          0\n",
       "month        0\n",
       "duration     0\n",
       "campaign     0\n",
       "pdays        0\n",
       "previous     0\n",
       "poutcome     0\n",
       "dtype: int64"
      ]
     },
     "execution_count": 674,
     "metadata": {},
     "output_type": "execute_result"
    }
   ],
   "source": [
    "test.isnull().sum()"
   ]
  },
  {
   "cell_type": "code",
   "execution_count": 675,
   "id": "7f0b92ba",
   "metadata": {},
   "outputs": [
    {
     "data": {
      "text/plain": [
       "<Axes: >"
      ]
     },
     "execution_count": 675,
     "metadata": {},
     "output_type": "execute_result"
    },
    {
     "data": {
      "image/png": "[encoded data removed]",
      "text/plain": [
       "<Figure size 640x480 with 2 Axes>"
      ]
     },
     "metadata": {},
     "output_type": "display_data"
    }
   ],
   "source": [
    "sns.heatmap(train.isnull())"
   ]
  },
  {
   "cell_type": "code",
   "execution_count": 676,
   "id": "177e2612",
   "metadata": {},
   "outputs": [
    {
     "data": {
      "text/html": [
       "<div>\n",
       "<style scoped>\n",
       "    .dataframe tbody tr th:only-of-type {\n",
       "        vertical-align: middle;\n",
       "    }\n",
       "\n",
       "    .dataframe tbody tr th {\n",
       "        vertical-align: top;\n",
       "    }\n",
       "\n",
       "    .dataframe thead th {\n",
       "        text-align: right;\n",
       "    }\n",
       "</style>\n",
       "<table border=\"1\" class=\"dataframe\">\n",
       "  <thead>\n",
       "    <tr style=\"text-align: right;\">\n",
       "      <th></th>\n",
       "      <th>unique values</th>\n",
       "    </tr>\n",
       "  </thead>\n",
       "  <tbody>\n",
       "    <tr>\n",
       "      <th>ID</th>\n",
       "      <td>31647</td>\n",
       "    </tr>\n",
       "    <tr>\n",
       "      <th>age</th>\n",
       "      <td>76</td>\n",
       "    </tr>\n",
       "    <tr>\n",
       "      <th>job</th>\n",
       "      <td>12</td>\n",
       "    </tr>\n",
       "    <tr>\n",
       "      <th>marital</th>\n",
       "      <td>3</td>\n",
       "    </tr>\n",
       "    <tr>\n",
       "      <th>education</th>\n",
       "      <td>4</td>\n",
       "    </tr>\n",
       "    <tr>\n",
       "      <th>default</th>\n",
       "      <td>2</td>\n",
       "    </tr>\n",
       "    <tr>\n",
       "      <th>balance</th>\n",
       "      <td>6326</td>\n",
       "    </tr>\n",
       "    <tr>\n",
       "      <th>housing</th>\n",
       "      <td>2</td>\n",
       "    </tr>\n",
       "    <tr>\n",
       "      <th>loan</th>\n",
       "      <td>2</td>\n",
       "    </tr>\n",
       "    <tr>\n",
       "      <th>contact</th>\n",
       "      <td>3</td>\n",
       "    </tr>\n",
       "    <tr>\n",
       "      <th>day</th>\n",
       "      <td>31</td>\n",
       "    </tr>\n",
       "    <tr>\n",
       "      <th>month</th>\n",
       "      <td>12</td>\n",
       "    </tr>\n",
       "    <tr>\n",
       "      <th>duration</th>\n",
       "      <td>1454</td>\n",
       "    </tr>\n",
       "    <tr>\n",
       "      <th>campaign</th>\n",
       "      <td>45</td>\n",
       "    </tr>\n",
       "    <tr>\n",
       "      <th>pdays</th>\n",
       "      <td>509</td>\n",
       "    </tr>\n",
       "    <tr>\n",
       "      <th>previous</th>\n",
       "      <td>38</td>\n",
       "    </tr>\n",
       "    <tr>\n",
       "      <th>poutcome</th>\n",
       "      <td>4</td>\n",
       "    </tr>\n",
       "    <tr>\n",
       "      <th>subscribed</th>\n",
       "      <td>2</td>\n",
       "    </tr>\n",
       "  </tbody>\n",
       "</table>\n",
       "</div>"
      ],
      "text/plain": [
       "            unique values\n",
       "ID                  31647\n",
       "age                    76\n",
       "job                    12\n",
       "marital                 3\n",
       "education               4\n",
       "default                 2\n",
       "balance              6326\n",
       "housing                 2\n",
       "loan                    2\n",
       "contact                 3\n",
       "day                    31\n",
       "month                  12\n",
       "duration             1454\n",
       "campaign               45\n",
       "pdays                 509\n",
       "previous               38\n",
       "poutcome                4\n",
       "subscribed              2"
      ]
     },
     "execution_count": 676,
     "metadata": {},
     "output_type": "execute_result"
    }
   ],
   "source": [
    "#Checking unique values i.e how many columns have categorical data\n",
    "train.nunique().to_frame('unique values')"
   ]
  },
  {
   "cell_type": "code",
   "execution_count": 677,
   "id": "d0a66a2d",
   "metadata": {},
   "outputs": [
    {
     "name": "stdout",
     "output_type": "stream",
     "text": [
      "no     27932\n",
      "yes     3715\n",
      "Name: subscribed, dtype: int64\n"
     ]
    },
    {
     "data": {
      "image/png": "[encoded data removed]",
      "text/plain": [
       "<Figure size 640x480 with 1 Axes>"
      ]
     },
     "metadata": {},
     "output_type": "display_data"
    }
   ],
   "source": [
    "#Graphical representation of target variable\n",
    "x=sns.countplot(data=train,x='subscribed')\n",
    "print(train['subscribed'].value_counts())"
   ]
  },
  {
   "cell_type": "code",
   "execution_count": 678,
   "id": "b797b433",
   "metadata": {},
   "outputs": [
    {
     "data": {
      "text/plain": [
       "(31647, 18)"
      ]
     },
     "execution_count": 678,
     "metadata": {},
     "output_type": "execute_result"
    }
   ],
   "source": [
    "train.shape"
   ]
  },
  {
   "cell_type": "code",
   "execution_count": 679,
   "id": "08d0b43c",
   "metadata": {},
   "outputs": [
    {
     "name": "stdout",
     "output_type": "stream",
     "text": [
      "no     27932\n",
      "yes     3715\n",
      "Name: subscribed, dtype: int64\n"
     ]
    },
    {
     "data": {
      "image/png": "[encoded data removed]",
      "text/plain": [
       "<Figure size 640x480 with 1 Axes>"
      ]
     },
     "metadata": {},
     "output_type": "display_data"
    }
   ],
   "source": [
    "#Graphical representation of target variable\n",
    "x=sns.countplot(data=train,x='subscribed')\n",
    "print(train['subscribed'].value_counts())"
   ]
  },
  {
   "cell_type": "code",
   "execution_count": 680,
   "id": "e2325134",
   "metadata": {},
   "outputs": [
    {
     "data": {
      "text/plain": [
       "no     0.882611\n",
       "yes    0.117389\n",
       "Name: subscribed, dtype: float64"
      ]
     },
     "execution_count": 680,
     "metadata": {},
     "output_type": "execute_result"
    }
   ],
   "source": [
    "# its clerely visible that targer variabkle have squeness so using cubetoot \n",
    "# train['subscribed']=np.cbrt(train['subscribed'])--not working so using normalisation method\n",
    "train['subscribed'].value_counts(normalize=True)"
   ]
  },
  {
   "cell_type": "code",
   "execution_count": 681,
   "id": "d63e55d8",
   "metadata": {},
   "outputs": [
    {
     "name": "stdout",
     "output_type": "stream",
     "text": [
      "no     27932\n",
      "yes     3715\n",
      "Name: subscribed, dtype: int64\n"
     ]
    },
    {
     "data": {
      "image/png": "[encoded data removed]",
      "text/plain": [
       "<Figure size 640x480 with 1 Axes>"
      ]
     },
     "metadata": {},
     "output_type": "display_data"
    }
   ],
   "source": [
    "ax=sns.countplot(data=train,x='subscribed')\n",
    "print(train['subscribed'].value_counts())"
   ]
  },
  {
   "cell_type": "code",
   "execution_count": 682,
   "id": "8233c248",
   "metadata": {},
   "outputs": [
    {
     "name": "stdout",
     "output_type": "stream",
     "text": [
      "blue-collar      6842\n",
      "management       6639\n",
      "technician       5307\n",
      "admin.           3631\n",
      "services         2903\n",
      "retired          1574\n",
      "self-employed    1123\n",
      "entrepreneur     1008\n",
      "unemployed        905\n",
      "housemaid         874\n",
      "student           635\n",
      "unknown           206\n",
      "Name: job, dtype: int64\n"
     ]
    },
    {
     "data": {
      "image/png": "[encoded data removed]",
      "text/plain": [
       "<Figure size 640x480 with 1 Axes>"
      ]
     },
     "metadata": {},
     "output_type": "display_data"
    }
   ],
   "source": [
    "ax=sns.countplot(data=train,x='job')\n",
    "print(train['job'].value_counts())"
   ]
  },
  {
   "cell_type": "code",
   "execution_count": 683,
   "id": "55409e9c",
   "metadata": {},
   "outputs": [
    {
     "name": "stdout",
     "output_type": "stream",
     "text": [
      "yes    17584\n",
      "no     14063\n",
      "Name: housing, dtype: int64\n"
     ]
    },
    {
     "data": {
      "image/png": "[encoded data removed]",
      "text/plain": [
       "<Figure size 640x480 with 1 Axes>"
      ]
     },
     "metadata": {},
     "output_type": "display_data"
    }
   ],
   "source": [
    "ax=sns.countplot(data=train,x='housing',hue='subscribed')\n",
    "print(train['housing'].value_counts())"
   ]
  },
  {
   "cell_type": "code",
   "execution_count": 684,
   "id": "f6344c29",
   "metadata": {},
   "outputs": [
    {
     "data": {
      "image/png": "[encoded data removed]",
      "text/plain": [
       "<Figure size 640x480 with 1 Axes>"
      ]
     },
     "metadata": {},
     "output_type": "display_data"
    }
   ],
   "source": [
    "plt.title('comp between pdays and campaign')\n",
    "sns.scatterplot(x='age',y='subscribed',data=train,palette='bright')\n",
    "plt.show()"
   ]
  },
  {
   "cell_type": "code",
   "execution_count": 685,
   "id": "8381d4d6",
   "metadata": {},
   "outputs": [
    {
     "data": {
      "image/png": "[encoded data removed]",
      "text/plain": [
       "<Figure size 640x480 with 1 Axes>"
      ]
     },
     "metadata": {},
     "output_type": "display_data"
    }
   ],
   "source": [
    "#comparision between \n",
    "plt.title('comp between pdays and campaign')\n",
    "sns.scatterplot(x='campaign',y='pdays',data=train,hue='subscribed',palette='bright')\n",
    "plt.show()"
   ]
  },
  {
   "cell_type": "code",
   "execution_count": 686,
   "id": "270b7d7e",
   "metadata": {},
   "outputs": [
    {
     "data": {
      "image/png": "[encoded data removed]",
      "text/plain": [
       "<Figure size 640x480 with 1 Axes>"
      ]
     },
     "metadata": {},
     "output_type": "display_data"
    }
   ],
   "source": [
    "#comparision between \n",
    "plt.title('comp between campaign and duration')\n",
    "sns.scatterplot(x='campaign',y='duration',data=train,hue='subscribed',palette='bright')\n",
    "plt.show()"
   ]
  },
  {
   "cell_type": "code",
   "execution_count": 687,
   "id": "63c9d908",
   "metadata": {},
   "outputs": [
    {
     "data": {
      "text/plain": [
       "<Axes: >"
      ]
     },
     "execution_count": 687,
     "metadata": {},
     "output_type": "execute_result"
    },
    {
     "data": {
      "image/png": "[encoded data removed]",
      "text/plain": [
       "<Figure size 640x480 with 1 Axes>"
      ]
     },
     "metadata": {},
     "output_type": "display_data"
    }
   ],
   "source": [
    "sns.boxplot(test['age'])#"
   ]
  },
  {
   "cell_type": "code",
   "execution_count": 688,
   "id": "bdf3c3d2",
   "metadata": {},
   "outputs": [
    {
     "data": {
      "text/plain": [
       "<Axes: >"
      ]
     },
     "execution_count": 688,
     "metadata": {},
     "output_type": "execute_result"
    },
    {
     "data": {
      "image/png": "[encoded data removed]",
      "text/plain": [
       "<Figure size 640x480 with 1 Axes>"
      ]
     },
     "metadata": {},
     "output_type": "display_data"
    }
   ],
   "source": [
    "sns.boxplot(test['balance'])"
   ]
  },
  {
   "cell_type": "code",
   "execution_count": 689,
   "id": "4cd559e4",
   "metadata": {},
   "outputs": [
    {
     "data": {
      "text/plain": [
       "<Axes: >"
      ]
     },
     "execution_count": 689,
     "metadata": {},
     "output_type": "execute_result"
    },
    {
     "data": {
      "image/png": "[encoded data removed]",
      "text/plain": [
       "<Figure size 640x480 with 1 Axes>"
      ]
     },
     "metadata": {},
     "output_type": "display_data"
    }
   ],
   "source": [
    "sns.boxplot(test['day'])"
   ]
  },
  {
   "cell_type": "code",
   "execution_count": 690,
   "id": "f58a0743",
   "metadata": {},
   "outputs": [
    {
     "data": {
      "text/plain": [
       "<Axes: >"
      ]
     },
     "execution_count": 690,
     "metadata": {},
     "output_type": "execute_result"
    },
    {
     "data": {
      "image/png": "[encoded data removed]",
      "text/plain": [
       "<Figure size 640x480 with 1 Axes>"
      ]
     },
     "metadata": {},
     "output_type": "display_data"
    }
   ],
   "source": [
    "sns.boxplot(test['duration'])"
   ]
  },
  {
   "cell_type": "code",
   "execution_count": 691,
   "id": "e9d5690a",
   "metadata": {},
   "outputs": [
    {
     "data": {
      "text/plain": [
       "<Axes: >"
      ]
     },
     "execution_count": 691,
     "metadata": {},
     "output_type": "execute_result"
    },
    {
     "data": {
      "image/png": "[encoded data removed]",
      "text/plain": [
       "<Figure size 640x480 with 1 Axes>"
      ]
     },
     "metadata": {},
     "output_type": "display_data"
    }
   ],
   "source": [
    "sns.boxplot(test['pdays'])"
   ]
  },
  {
   "cell_type": "code",
   "execution_count": 692,
   "id": "910b6c94",
   "metadata": {},
   "outputs": [
    {
     "data": {
      "text/plain": [
       "<Axes: >"
      ]
     },
     "execution_count": 692,
     "metadata": {},
     "output_type": "execute_result"
    },
    {
     "data": {
      "image/png": "[encoded data removed]",
      "text/plain": [
       "<Figure size 640x480 with 1 Axes>"
      ]
     },
     "metadata": {},
     "output_type": "display_data"
    }
   ],
   "source": [
    "sns.boxplot(test['campaign'])\n",
    "# #outliers are present in multiple columsn so using z score\n",
    "# from scipy.stats import zscore\n",
    "# out_features=test(['balance'])#'age','campaign','pdays','duration','day',\n",
    "# z=np.abs(zscore(out_features))\n",
    "# z"
   ]
  },
  {
   "cell_type": "code",
   "execution_count": 693,
   "id": "757a0538",
   "metadata": {},
   "outputs": [
    {
     "data": {
      "text/plain": [
       "ID         -0.013625\n",
       "age         0.692404\n",
       "balance     9.165015\n",
       "day         0.106806\n",
       "duration    3.017221\n",
       "campaign    4.958236\n",
       "pdays       2.555601\n",
       "previous    8.704583\n",
       "dtype: float64"
      ]
     },
     "execution_count": 693,
     "metadata": {},
     "output_type": "execute_result"
    }
   ],
   "source": [
    "test.skew()"
   ]
  },
  {
   "cell_type": "code",
   "execution_count": 694,
   "id": "85a04df5",
   "metadata": {},
   "outputs": [
    {
     "name": "stdout",
     "output_type": "stream",
     "text": [
      "no     27932\n",
      "yes     3715\n",
      "Name: subscribed, dtype: int64\n"
     ]
    },
    {
     "data": {
      "image/png": "[encoded data removed]",
      "text/plain": [
       "<Figure size 640x480 with 1 Axes>"
      ]
     },
     "metadata": {},
     "output_type": "display_data"
    }
   ],
   "source": [
    "#checking job \n",
    "\n",
    "\n",
    "ax=sns.countplot(data=train,x='subscribed')\n",
    "print(train['subscribed'].value_counts())"
   ]
  },
  {
   "cell_type": "markdown",
   "id": "1abcb683",
   "metadata": {},
   "source": [
    "#encoding categorical column using odinal encoder \n",
    "from sklearn.preprocessing import OrdinalEncoder\n",
    "OE=OrdinalEncoder()\n",
    "for i in train.columns:\n",
    "    if train[i].dtypes=='object':\n",
    "        train[i]=OE.fit_transform(train[i].values.reshape(-1,1))\n",
    "train"
   ]
  },
  {
   "cell_type": "code",
   "execution_count": 695,
   "id": "af3929f8",
   "metadata": {},
   "outputs": [
    {
     "data": {
      "text/html": [
       "<div>\n",
       "<style scoped>\n",
       "    .dataframe tbody tr th:only-of-type {\n",
       "        vertical-align: middle;\n",
       "    }\n",
       "\n",
       "    .dataframe tbody tr th {\n",
       "        vertical-align: top;\n",
       "    }\n",
       "\n",
       "    .dataframe thead th {\n",
       "        text-align: right;\n",
       "    }\n",
       "</style>\n",
       "<table border=\"1\" class=\"dataframe\">\n",
       "  <thead>\n",
       "    <tr style=\"text-align: right;\">\n",
       "      <th>subscribed</th>\n",
       "      <th>no</th>\n",
       "      <th>yes</th>\n",
       "    </tr>\n",
       "    <tr>\n",
       "      <th>marital</th>\n",
       "      <th></th>\n",
       "      <th></th>\n",
       "    </tr>\n",
       "  </thead>\n",
       "  <tbody>\n",
       "    <tr>\n",
       "      <th>divorced</th>\n",
       "      <td>3185</td>\n",
       "      <td>445</td>\n",
       "    </tr>\n",
       "    <tr>\n",
       "      <th>married</th>\n",
       "      <td>17176</td>\n",
       "      <td>1919</td>\n",
       "    </tr>\n",
       "    <tr>\n",
       "      <th>single</th>\n",
       "      <td>7571</td>\n",
       "      <td>1351</td>\n",
       "    </tr>\n",
       "  </tbody>\n",
       "</table>\n",
       "</div>"
      ],
      "text/plain": [
       "subscribed     no   yes\n",
       "marital                \n",
       "divorced     3185   445\n",
       "married     17176  1919\n",
       "single       7571  1351"
      ]
     },
     "execution_count": 695,
     "metadata": {},
     "output_type": "execute_result"
    }
   ],
   "source": [
    "pd.crosstab(train['marital'], train['subscribed'])"
   ]
  },
  {
   "cell_type": "code",
   "execution_count": 696,
   "id": "b252558d",
   "metadata": {},
   "outputs": [
    {
     "data": {
      "text/html": [
       "<div>\n",
       "<style scoped>\n",
       "    .dataframe tbody tr th:only-of-type {\n",
       "        vertical-align: middle;\n",
       "    }\n",
       "\n",
       "    .dataframe tbody tr th {\n",
       "        vertical-align: top;\n",
       "    }\n",
       "\n",
       "    .dataframe thead th {\n",
       "        text-align: right;\n",
       "    }\n",
       "</style>\n",
       "<table border=\"1\" class=\"dataframe\">\n",
       "  <thead>\n",
       "    <tr style=\"text-align: right;\">\n",
       "      <th>subscribed</th>\n",
       "      <th>no</th>\n",
       "      <th>yes</th>\n",
       "    </tr>\n",
       "    <tr>\n",
       "      <th>marital</th>\n",
       "      <th></th>\n",
       "      <th></th>\n",
       "    </tr>\n",
       "  </thead>\n",
       "  <tbody>\n",
       "    <tr>\n",
       "      <th>divorced</th>\n",
       "      <td>0.877410</td>\n",
       "      <td>0.122590</td>\n",
       "    </tr>\n",
       "    <tr>\n",
       "      <th>married</th>\n",
       "      <td>0.899502</td>\n",
       "      <td>0.100498</td>\n",
       "    </tr>\n",
       "    <tr>\n",
       "      <th>single</th>\n",
       "      <td>0.848577</td>\n",
       "      <td>0.151423</td>\n",
       "    </tr>\n",
       "  </tbody>\n",
       "</table>\n",
       "</div>"
      ],
      "text/plain": [
       "subscribed        no       yes\n",
       "marital                       \n",
       "divorced    0.877410  0.122590\n",
       "married     0.899502  0.100498\n",
       "single      0.848577  0.151423"
      ]
     },
     "execution_count": 696,
     "metadata": {},
     "output_type": "execute_result"
    }
   ],
   "source": [
    "marital = pd.crosstab(train['marital'], train['subscribed'])\n",
    "marital_norm = marital.div(marital.sum(1).astype(float), axis=0)\n",
    "marital_norm"
   ]
  },
  {
   "cell_type": "code",
   "execution_count": 697,
   "id": "959cd071",
   "metadata": {},
   "outputs": [
    {
     "name": "stdout",
     "output_type": "stream",
     "text": [
      "subscribed       no  yes\n",
      "job                     \n",
      "admin.         3179  452\n",
      "blue-collar    6353  489\n",
      "entrepreneur    923   85\n",
      "housemaid       795   79\n",
      "management     5716  923\n",
      "retired        1212  362\n",
      "self-employed   983  140\n",
      "services       2649  254\n",
      "student         453  182\n",
      "technician     4713  594\n",
      "unemployed      776  129\n",
      "unknown         180   26\n"
     ]
    }
   ],
   "source": [
    "print(pd.crosstab(train['job'],train['subscribed']))"
   ]
  },
  {
   "cell_type": "code",
   "execution_count": 698,
   "id": "aca6484f",
   "metadata": {},
   "outputs": [],
   "source": [
    "# we have to see corelation between target and input variable as our targer variable in category so we convert it to numerical data\n",
    "\n",
    "train['subscribed'].replace('no', 0,inplace=True)\n",
    "train['subscribed'].replace('yes', 1,inplace=True)"
   ]
  },
  {
   "cell_type": "code",
   "execution_count": 699,
   "id": "df277e0a",
   "metadata": {},
   "outputs": [
    {
     "data": {
      "text/html": [
       "<div>\n",
       "<style scoped>\n",
       "    .dataframe tbody tr th:only-of-type {\n",
       "        vertical-align: middle;\n",
       "    }\n",
       "\n",
       "    .dataframe tbody tr th {\n",
       "        vertical-align: top;\n",
       "    }\n",
       "\n",
       "    .dataframe thead th {\n",
       "        text-align: right;\n",
       "    }\n",
       "</style>\n",
       "<table border=\"1\" class=\"dataframe\">\n",
       "  <thead>\n",
       "    <tr style=\"text-align: right;\">\n",
       "      <th></th>\n",
       "      <th>ID</th>\n",
       "      <th>age</th>\n",
       "      <th>job</th>\n",
       "      <th>marital</th>\n",
       "      <th>education</th>\n",
       "      <th>default</th>\n",
       "      <th>balance</th>\n",
       "      <th>housing</th>\n",
       "      <th>loan</th>\n",
       "      <th>contact</th>\n",
       "      <th>day</th>\n",
       "      <th>month</th>\n",
       "      <th>duration</th>\n",
       "      <th>campaign</th>\n",
       "      <th>pdays</th>\n",
       "      <th>previous</th>\n",
       "      <th>poutcome</th>\n",
       "      <th>subscribed</th>\n",
       "    </tr>\n",
       "  </thead>\n",
       "  <tbody>\n",
       "    <tr>\n",
       "      <th>0</th>\n",
       "      <td>26110</td>\n",
       "      <td>56</td>\n",
       "      <td>admin.</td>\n",
       "      <td>married</td>\n",
       "      <td>unknown</td>\n",
       "      <td>no</td>\n",
       "      <td>1933</td>\n",
       "      <td>no</td>\n",
       "      <td>no</td>\n",
       "      <td>telephone</td>\n",
       "      <td>19</td>\n",
       "      <td>nov</td>\n",
       "      <td>44</td>\n",
       "      <td>2</td>\n",
       "      <td>-1</td>\n",
       "      <td>0</td>\n",
       "      <td>unknown</td>\n",
       "      <td>0</td>\n",
       "    </tr>\n",
       "    <tr>\n",
       "      <th>1</th>\n",
       "      <td>40576</td>\n",
       "      <td>31</td>\n",
       "      <td>unknown</td>\n",
       "      <td>married</td>\n",
       "      <td>secondary</td>\n",
       "      <td>no</td>\n",
       "      <td>3</td>\n",
       "      <td>no</td>\n",
       "      <td>no</td>\n",
       "      <td>cellular</td>\n",
       "      <td>20</td>\n",
       "      <td>jul</td>\n",
       "      <td>91</td>\n",
       "      <td>2</td>\n",
       "      <td>-1</td>\n",
       "      <td>0</td>\n",
       "      <td>unknown</td>\n",
       "      <td>0</td>\n",
       "    </tr>\n",
       "    <tr>\n",
       "      <th>2</th>\n",
       "      <td>15320</td>\n",
       "      <td>27</td>\n",
       "      <td>services</td>\n",
       "      <td>married</td>\n",
       "      <td>secondary</td>\n",
       "      <td>no</td>\n",
       "      <td>891</td>\n",
       "      <td>yes</td>\n",
       "      <td>no</td>\n",
       "      <td>cellular</td>\n",
       "      <td>18</td>\n",
       "      <td>jul</td>\n",
       "      <td>240</td>\n",
       "      <td>1</td>\n",
       "      <td>-1</td>\n",
       "      <td>0</td>\n",
       "      <td>unknown</td>\n",
       "      <td>0</td>\n",
       "    </tr>\n",
       "    <tr>\n",
       "      <th>3</th>\n",
       "      <td>43962</td>\n",
       "      <td>57</td>\n",
       "      <td>management</td>\n",
       "      <td>divorced</td>\n",
       "      <td>tertiary</td>\n",
       "      <td>no</td>\n",
       "      <td>3287</td>\n",
       "      <td>no</td>\n",
       "      <td>no</td>\n",
       "      <td>cellular</td>\n",
       "      <td>22</td>\n",
       "      <td>jun</td>\n",
       "      <td>867</td>\n",
       "      <td>1</td>\n",
       "      <td>84</td>\n",
       "      <td>3</td>\n",
       "      <td>success</td>\n",
       "      <td>1</td>\n",
       "    </tr>\n",
       "    <tr>\n",
       "      <th>4</th>\n",
       "      <td>29842</td>\n",
       "      <td>31</td>\n",
       "      <td>technician</td>\n",
       "      <td>married</td>\n",
       "      <td>secondary</td>\n",
       "      <td>no</td>\n",
       "      <td>119</td>\n",
       "      <td>yes</td>\n",
       "      <td>no</td>\n",
       "      <td>cellular</td>\n",
       "      <td>4</td>\n",
       "      <td>feb</td>\n",
       "      <td>380</td>\n",
       "      <td>1</td>\n",
       "      <td>-1</td>\n",
       "      <td>0</td>\n",
       "      <td>unknown</td>\n",
       "      <td>0</td>\n",
       "    </tr>\n",
       "    <tr>\n",
       "      <th>...</th>\n",
       "      <td>...</td>\n",
       "      <td>...</td>\n",
       "      <td>...</td>\n",
       "      <td>...</td>\n",
       "      <td>...</td>\n",
       "      <td>...</td>\n",
       "      <td>...</td>\n",
       "      <td>...</td>\n",
       "      <td>...</td>\n",
       "      <td>...</td>\n",
       "      <td>...</td>\n",
       "      <td>...</td>\n",
       "      <td>...</td>\n",
       "      <td>...</td>\n",
       "      <td>...</td>\n",
       "      <td>...</td>\n",
       "      <td>...</td>\n",
       "      <td>...</td>\n",
       "    </tr>\n",
       "    <tr>\n",
       "      <th>31642</th>\n",
       "      <td>36483</td>\n",
       "      <td>29</td>\n",
       "      <td>management</td>\n",
       "      <td>single</td>\n",
       "      <td>tertiary</td>\n",
       "      <td>no</td>\n",
       "      <td>0</td>\n",
       "      <td>yes</td>\n",
       "      <td>no</td>\n",
       "      <td>cellular</td>\n",
       "      <td>12</td>\n",
       "      <td>may</td>\n",
       "      <td>116</td>\n",
       "      <td>2</td>\n",
       "      <td>-1</td>\n",
       "      <td>0</td>\n",
       "      <td>unknown</td>\n",
       "      <td>0</td>\n",
       "    </tr>\n",
       "    <tr>\n",
       "      <th>31643</th>\n",
       "      <td>40178</td>\n",
       "      <td>53</td>\n",
       "      <td>management</td>\n",
       "      <td>divorced</td>\n",
       "      <td>tertiary</td>\n",
       "      <td>no</td>\n",
       "      <td>380</td>\n",
       "      <td>no</td>\n",
       "      <td>yes</td>\n",
       "      <td>cellular</td>\n",
       "      <td>5</td>\n",
       "      <td>jun</td>\n",
       "      <td>438</td>\n",
       "      <td>2</td>\n",
       "      <td>-1</td>\n",
       "      <td>0</td>\n",
       "      <td>unknown</td>\n",
       "      <td>1</td>\n",
       "    </tr>\n",
       "    <tr>\n",
       "      <th>31644</th>\n",
       "      <td>19710</td>\n",
       "      <td>32</td>\n",
       "      <td>management</td>\n",
       "      <td>single</td>\n",
       "      <td>tertiary</td>\n",
       "      <td>no</td>\n",
       "      <td>312</td>\n",
       "      <td>no</td>\n",
       "      <td>no</td>\n",
       "      <td>cellular</td>\n",
       "      <td>7</td>\n",
       "      <td>aug</td>\n",
       "      <td>37</td>\n",
       "      <td>3</td>\n",
       "      <td>-1</td>\n",
       "      <td>0</td>\n",
       "      <td>unknown</td>\n",
       "      <td>0</td>\n",
       "    </tr>\n",
       "    <tr>\n",
       "      <th>31645</th>\n",
       "      <td>38556</td>\n",
       "      <td>57</td>\n",
       "      <td>technician</td>\n",
       "      <td>married</td>\n",
       "      <td>secondary</td>\n",
       "      <td>no</td>\n",
       "      <td>225</td>\n",
       "      <td>yes</td>\n",
       "      <td>no</td>\n",
       "      <td>telephone</td>\n",
       "      <td>15</td>\n",
       "      <td>may</td>\n",
       "      <td>22</td>\n",
       "      <td>7</td>\n",
       "      <td>337</td>\n",
       "      <td>12</td>\n",
       "      <td>failure</td>\n",
       "      <td>0</td>\n",
       "    </tr>\n",
       "    <tr>\n",
       "      <th>31646</th>\n",
       "      <td>14156</td>\n",
       "      <td>55</td>\n",
       "      <td>management</td>\n",
       "      <td>divorced</td>\n",
       "      <td>secondary</td>\n",
       "      <td>no</td>\n",
       "      <td>204</td>\n",
       "      <td>yes</td>\n",
       "      <td>no</td>\n",
       "      <td>cellular</td>\n",
       "      <td>11</td>\n",
       "      <td>jul</td>\n",
       "      <td>1973</td>\n",
       "      <td>2</td>\n",
       "      <td>-1</td>\n",
       "      <td>0</td>\n",
       "      <td>unknown</td>\n",
       "      <td>1</td>\n",
       "    </tr>\n",
       "  </tbody>\n",
       "</table>\n",
       "<p>31647 rows × 18 columns</p>\n",
       "</div>"
      ],
      "text/plain": [
       "          ID  age         job   marital  education default  balance housing  \\\n",
       "0      26110   56      admin.   married    unknown      no     1933      no   \n",
       "1      40576   31     unknown   married  secondary      no        3      no   \n",
       "2      15320   27    services   married  secondary      no      891     yes   \n",
       "3      43962   57  management  divorced   tertiary      no     3287      no   \n",
       "4      29842   31  technician   married  secondary      no      119     yes   \n",
       "...      ...  ...         ...       ...        ...     ...      ...     ...   \n",
       "31642  36483   29  management    single   tertiary      no        0     yes   \n",
       "31643  40178   53  management  divorced   tertiary      no      380      no   \n",
       "31644  19710   32  management    single   tertiary      no      312      no   \n",
       "31645  38556   57  technician   married  secondary      no      225     yes   \n",
       "31646  14156   55  management  divorced  secondary      no      204     yes   \n",
       "\n",
       "      loan    contact  day month  duration  campaign  pdays  previous  \\\n",
       "0       no  telephone   19   nov        44         2     -1         0   \n",
       "1       no   cellular   20   jul        91         2     -1         0   \n",
       "2       no   cellular   18   jul       240         1     -1         0   \n",
       "3       no   cellular   22   jun       867         1     84         3   \n",
       "4       no   cellular    4   feb       380         1     -1         0   \n",
       "...    ...        ...  ...   ...       ...       ...    ...       ...   \n",
       "31642   no   cellular   12   may       116         2     -1         0   \n",
       "31643  yes   cellular    5   jun       438         2     -1         0   \n",
       "31644   no   cellular    7   aug        37         3     -1         0   \n",
       "31645   no  telephone   15   may        22         7    337        12   \n",
       "31646   no   cellular   11   jul      1973         2     -1         0   \n",
       "\n",
       "      poutcome  subscribed  \n",
       "0      unknown           0  \n",
       "1      unknown           0  \n",
       "2      unknown           0  \n",
       "3      success           1  \n",
       "4      unknown           0  \n",
       "...        ...         ...  \n",
       "31642  unknown           0  \n",
       "31643  unknown           1  \n",
       "31644  unknown           0  \n",
       "31645  failure           0  \n",
       "31646  unknown           1  \n",
       "\n",
       "[31647 rows x 18 columns]"
      ]
     },
     "execution_count": 699,
     "metadata": {},
     "output_type": "execute_result"
    }
   ],
   "source": [
    "train"
   ]
  },
  {
   "cell_type": "code",
   "execution_count": 700,
   "id": "6a21276d",
   "metadata": {},
   "outputs": [],
   "source": [
    "z=train.corr()"
   ]
  },
  {
   "cell_type": "code",
   "execution_count": 701,
   "id": "e3f54603",
   "metadata": {},
   "outputs": [
    {
     "data": {
      "text/html": [
       "<div>\n",
       "<style scoped>\n",
       "    .dataframe tbody tr th:only-of-type {\n",
       "        vertical-align: middle;\n",
       "    }\n",
       "\n",
       "    .dataframe tbody tr th {\n",
       "        vertical-align: top;\n",
       "    }\n",
       "\n",
       "    .dataframe thead th {\n",
       "        text-align: right;\n",
       "    }\n",
       "</style>\n",
       "<table border=\"1\" class=\"dataframe\">\n",
       "  <thead>\n",
       "    <tr style=\"text-align: right;\">\n",
       "      <th></th>\n",
       "      <th>ID</th>\n",
       "      <th>age</th>\n",
       "      <th>balance</th>\n",
       "      <th>day</th>\n",
       "      <th>duration</th>\n",
       "      <th>campaign</th>\n",
       "      <th>pdays</th>\n",
       "      <th>previous</th>\n",
       "      <th>subscribed</th>\n",
       "    </tr>\n",
       "  </thead>\n",
       "  <tbody>\n",
       "    <tr>\n",
       "      <th>ID</th>\n",
       "      <td>1.000000</td>\n",
       "      <td>0.013337</td>\n",
       "      <td>0.067897</td>\n",
       "      <td>-0.063399</td>\n",
       "      <td>0.007183</td>\n",
       "      <td>-0.103508</td>\n",
       "      <td>0.436148</td>\n",
       "      <td>0.254476</td>\n",
       "      <td>0.296663</td>\n",
       "    </tr>\n",
       "    <tr>\n",
       "      <th>age</th>\n",
       "      <td>0.013337</td>\n",
       "      <td>1.000000</td>\n",
       "      <td>0.103245</td>\n",
       "      <td>-0.011056</td>\n",
       "      <td>-0.003870</td>\n",
       "      <td>0.005733</td>\n",
       "      <td>-0.021947</td>\n",
       "      <td>0.005761</td>\n",
       "      <td>0.024538</td>\n",
       "    </tr>\n",
       "    <tr>\n",
       "      <th>balance</th>\n",
       "      <td>0.067897</td>\n",
       "      <td>0.103245</td>\n",
       "      <td>1.000000</td>\n",
       "      <td>0.003461</td>\n",
       "      <td>0.024274</td>\n",
       "      <td>-0.012032</td>\n",
       "      <td>0.001789</td>\n",
       "      <td>0.013843</td>\n",
       "      <td>0.050807</td>\n",
       "    </tr>\n",
       "    <tr>\n",
       "      <th>day</th>\n",
       "      <td>-0.063399</td>\n",
       "      <td>-0.011056</td>\n",
       "      <td>0.003461</td>\n",
       "      <td>1.000000</td>\n",
       "      <td>-0.032288</td>\n",
       "      <td>0.159168</td>\n",
       "      <td>-0.087626</td>\n",
       "      <td>-0.048752</td>\n",
       "      <td>-0.029600</td>\n",
       "    </tr>\n",
       "    <tr>\n",
       "      <th>duration</th>\n",
       "      <td>0.007183</td>\n",
       "      <td>-0.003870</td>\n",
       "      <td>0.024274</td>\n",
       "      <td>-0.032288</td>\n",
       "      <td>1.000000</td>\n",
       "      <td>-0.080305</td>\n",
       "      <td>0.000529</td>\n",
       "      <td>0.001783</td>\n",
       "      <td>0.389838</td>\n",
       "    </tr>\n",
       "    <tr>\n",
       "      <th>campaign</th>\n",
       "      <td>-0.103508</td>\n",
       "      <td>0.005733</td>\n",
       "      <td>-0.012032</td>\n",
       "      <td>0.159168</td>\n",
       "      <td>-0.080305</td>\n",
       "      <td>1.000000</td>\n",
       "      <td>-0.087570</td>\n",
       "      <td>-0.033151</td>\n",
       "      <td>-0.070607</td>\n",
       "    </tr>\n",
       "    <tr>\n",
       "      <th>pdays</th>\n",
       "      <td>0.436148</td>\n",
       "      <td>-0.021947</td>\n",
       "      <td>0.001789</td>\n",
       "      <td>-0.087626</td>\n",
       "      <td>0.000529</td>\n",
       "      <td>-0.087570</td>\n",
       "      <td>1.000000</td>\n",
       "      <td>0.428938</td>\n",
       "      <td>0.108290</td>\n",
       "    </tr>\n",
       "    <tr>\n",
       "      <th>previous</th>\n",
       "      <td>0.254476</td>\n",
       "      <td>0.005761</td>\n",
       "      <td>0.013843</td>\n",
       "      <td>-0.048752</td>\n",
       "      <td>0.001783</td>\n",
       "      <td>-0.033151</td>\n",
       "      <td>0.428938</td>\n",
       "      <td>1.000000</td>\n",
       "      <td>0.088081</td>\n",
       "    </tr>\n",
       "    <tr>\n",
       "      <th>subscribed</th>\n",
       "      <td>0.296663</td>\n",
       "      <td>0.024538</td>\n",
       "      <td>0.050807</td>\n",
       "      <td>-0.029600</td>\n",
       "      <td>0.389838</td>\n",
       "      <td>-0.070607</td>\n",
       "      <td>0.108290</td>\n",
       "      <td>0.088081</td>\n",
       "      <td>1.000000</td>\n",
       "    </tr>\n",
       "  </tbody>\n",
       "</table>\n",
       "</div>"
      ],
      "text/plain": [
       "                  ID       age   balance       day  duration  campaign  \\\n",
       "ID          1.000000  0.013337  0.067897 -0.063399  0.007183 -0.103508   \n",
       "age         0.013337  1.000000  0.103245 -0.011056 -0.003870  0.005733   \n",
       "balance     0.067897  0.103245  1.000000  0.003461  0.024274 -0.012032   \n",
       "day        -0.063399 -0.011056  0.003461  1.000000 -0.032288  0.159168   \n",
       "duration    0.007183 -0.003870  0.024274 -0.032288  1.000000 -0.080305   \n",
       "campaign   -0.103508  0.005733 -0.012032  0.159168 -0.080305  1.000000   \n",
       "pdays       0.436148 -0.021947  0.001789 -0.087626  0.000529 -0.087570   \n",
       "previous    0.254476  0.005761  0.013843 -0.048752  0.001783 -0.033151   \n",
       "subscribed  0.296663  0.024538  0.050807 -0.029600  0.389838 -0.070607   \n",
       "\n",
       "               pdays  previous  subscribed  \n",
       "ID          0.436148  0.254476    0.296663  \n",
       "age        -0.021947  0.005761    0.024538  \n",
       "balance     0.001789  0.013843    0.050807  \n",
       "day        -0.087626 -0.048752   -0.029600  \n",
       "duration    0.000529  0.001783    0.389838  \n",
       "campaign   -0.087570 -0.033151   -0.070607  \n",
       "pdays       1.000000  0.428938    0.108290  \n",
       "previous    0.428938  1.000000    0.088081  \n",
       "subscribed  0.108290  0.088081    1.000000  "
      ]
     },
     "execution_count": 701,
     "metadata": {},
     "output_type": "execute_result"
    }
   ],
   "source": [
    "z"
   ]
  },
  {
   "cell_type": "code",
   "execution_count": 702,
   "id": "f32b523a",
   "metadata": {},
   "outputs": [
    {
     "data": {
      "image/png": "[encoded data removed]",
      "text/plain": [
       "<Figure size 2000x1500 with 2 Axes>"
      ]
     },
     "metadata": {},
     "output_type": "display_data"
    }
   ],
   "source": [
    "plt.figure(figsize=(20,15))\n",
    "sns.heatmap(z,linewidths=.1,fmt='.1g',linecolor='black',annot=True,cmap='Blues_r')\n",
    "plt.yticks(rotation=0);\n",
    "plt.show()"
   ]
  },
  {
   "cell_type": "code",
   "execution_count": 703,
   "id": "d9b440c6",
   "metadata": {},
   "outputs": [
    {
     "data": {
      "text/plain": [
       "ID             0.005851\n",
       "age            0.681607\n",
       "balance        7.995696\n",
       "day            0.087185\n",
       "duration       3.199766\n",
       "campaign       4.873935\n",
       "pdays          2.642374\n",
       "previous      49.302348\n",
       "subscribed     2.377445\n",
       "dtype: float64"
      ]
     },
     "execution_count": 703,
     "metadata": {},
     "output_type": "execute_result"
    }
   ],
   "source": [
    "train.skew()"
   ]
  },
  {
   "cell_type": "code",
   "execution_count": 704,
   "id": "812fae44",
   "metadata": {},
   "outputs": [
    {
     "data": {
      "text/plain": [
       "(31647, 18)"
      ]
     },
     "execution_count": 704,
     "metadata": {},
     "output_type": "execute_result"
    }
   ],
   "source": [
    "train.shape"
   ]
  },
  {
   "cell_type": "code",
   "execution_count": 705,
   "id": "6c73a6f9",
   "metadata": {},
   "outputs": [
    {
     "data": {
      "image/png": "[encoded data removed]",
      "text/plain": [
       "<Figure size 1000x600 with 4 Axes>"
      ]
     },
     "metadata": {},
     "output_type": "display_data"
    }
   ],
   "source": [
    "#now checking how data have been distributed in remaining column\n",
    "plt.figure(figsize=(10, 6),facecolor='white')\n",
    "plotnumber=1\n",
    "for col in z:\n",
    "    if plotnumber<=4:\n",
    "        ax=plt.subplot(2,2,plotnumber)\n",
    "        sns.distplot(train[col],color='m')\n",
    "        plt.xlabel(col,fontsize=12)\n",
    "        plt.yticks(rotation=0,fontsize=10)\n",
    "    plotnumber+=1\n",
    "plt.tight_layout()"
   ]
  },
  {
   "cell_type": "code",
   "execution_count": 706,
   "id": "44ad1475",
   "metadata": {},
   "outputs": [],
   "source": [
    "train['balance']=np.cbrt(train['balance'])"
   ]
  },
  {
   "cell_type": "code",
   "execution_count": 707,
   "id": "9bdbf240",
   "metadata": {},
   "outputs": [
    {
     "data": {
      "text/plain": [
       "-0.0860142247389578"
      ]
     },
     "execution_count": 707,
     "metadata": {},
     "output_type": "execute_result"
    }
   ],
   "source": [
    "train['balance'].skew()"
   ]
  },
  {
   "cell_type": "code",
   "execution_count": 708,
   "id": "6c9477c9",
   "metadata": {},
   "outputs": [
    {
     "data": {
      "text/plain": [
       "0.6472745205258513"
      ]
     },
     "execution_count": 708,
     "metadata": {},
     "output_type": "execute_result"
    }
   ],
   "source": [
    "train['duration']=np.cbrt(train['duration'])\n",
    "train['duration'].skew()\n",
    "      "
   ]
  },
  {
   "cell_type": "code",
   "execution_count": 709,
   "id": "8e7c40ab",
   "metadata": {},
   "outputs": [
    {
     "data": {
      "text/plain": [
       "1.6679384708924412"
      ]
     },
     "execution_count": 709,
     "metadata": {},
     "output_type": "execute_result"
    }
   ],
   "source": [
    "train['campaign']=np.cbrt(train['campaign'])\n",
    "train['campaign'].skew()\n",
    "      \n",
    "\n",
    "       \n"
   ]
  },
  {
   "cell_type": "code",
   "execution_count": 710,
   "id": "e69027b2",
   "metadata": {},
   "outputs": [
    {
     "data": {
      "text/plain": [
       "1.7790364126058276"
      ]
     },
     "execution_count": 710,
     "metadata": {},
     "output_type": "execute_result"
    }
   ],
   "source": [
    "train['pdays']=np.cbrt(train['pdays'])\n",
    "train['pdays'].skew()\n",
    "\n",
    "          "
   ]
  },
  {
   "cell_type": "code",
   "execution_count": 711,
   "id": "5709f4f4",
   "metadata": {},
   "outputs": [
    {
     "data": {
      "text/plain": [
       "2.079738303449781"
      ]
     },
     "execution_count": 711,
     "metadata": {},
     "output_type": "execute_result"
    }
   ],
   "source": [
    "train['previous']=np.cbrt(train['previous'])\n",
    "train['previous'].skew()\n",
    "\n",
    "      "
   ]
  },
  {
   "cell_type": "code",
   "execution_count": 712,
   "id": "9af84ec2",
   "metadata": {},
   "outputs": [
    {
     "data": {
      "text/plain": [
       "(31647, 18)"
      ]
     },
     "execution_count": 712,
     "metadata": {},
     "output_type": "execute_result"
    }
   ],
   "source": [
    "train.shape"
   ]
  },
  {
   "cell_type": "code",
   "execution_count": 713,
   "id": "ec2922ce",
   "metadata": {},
   "outputs": [],
   "source": [
    "#encoding categorical column using odinal encoder \n",
    "from sklearn.preprocessing import OrdinalEncoder\n",
    "OE=OrdinalEncoder()\n",
    "for i in train.columns:\n",
    "    if train[i].dtypes=='object':\n",
    "        train[i]=OE.fit_transform(train[i].values.reshape(-1,1))"
   ]
  },
  {
   "cell_type": "code",
   "execution_count": null,
   "id": "5f10bdc6",
   "metadata": {},
   "outputs": [],
   "source": []
  },
  {
   "cell_type": "code",
   "execution_count": 716,
   "id": "e63dbe6b",
   "metadata": {},
   "outputs": [],
   "source": [
    "from imblearn.over_sampling import SMOTE\n",
    "from sklearn.preprocessing import StandardScaler\n",
    "from sklearn.model_selection import train_test_split\n",
    "from sklearn.linear_model import LogisticRegression\n",
    "from sklearn.svm import SVC\n",
    "from sklearn.tree import DecisionTreeClassifier\n",
    "from sklearn.ensemble import RandomForestClassifier\n",
    "from sklearn.ensemble import ExtraTreesClassifier\n",
    "from sklearn.neighbors import KNeighborsClassifier\n",
    "from sklearn import metrics\n",
    "from sklearn .metrics import accuracy_score,confusion_matrix,classification_report\n",
    "from sklearn.metrics import classification_report\n",
    "from sklearn.metrics import accuracy_score\n",
    "from sklearn.model_selection import cross_val_score\n",
    "from sklearn.model_selection import GridSearchCV \n",
    "import warnings\n",
    "warnings.simplefilter(\"ignore\")\n",
    "from sklearn.ensemble import RandomForestClassifier,ExtraTreesClassifier\n",
    "from sklearn.linear_model import LogisticRegression\n",
    "from sklearn.svm import SVC\n",
    "from sklearn.ensemble import GradientBoostingClassifier,AdaBoostClassifier,BaggingClassifier\n",
    "from sklearn.metrics import classification_report,confusion_matrix,roc_curve,accuracy_score\n",
    "from sklearn.model_selection import cross_val_score"
   ]
  },
  {
   "cell_type": "code",
   "execution_count": null,
   "id": "83dd8df6",
   "metadata": {},
   "outputs": [],
   "source": []
  },
  {
   "cell_type": "code",
   "execution_count": 717,
   "id": "3ef83cc2",
   "metadata": {},
   "outputs": [],
   "source": [
    "y = train['subscribed']\n",
    "x = train.drop('subscribed', axis=1)"
   ]
  },
  {
   "cell_type": "code",
   "execution_count": 718,
   "id": "4a684b3a",
   "metadata": {},
   "outputs": [
    {
     "data": {
      "text/plain": [
       "(31647, 17)"
      ]
     },
     "execution_count": 718,
     "metadata": {},
     "output_type": "execute_result"
    }
   ],
   "source": [
    "x.shape\n"
   ]
  },
  {
   "cell_type": "code",
   "execution_count": 719,
   "id": "e029dd68",
   "metadata": {},
   "outputs": [
    {
     "data": {
      "text/plain": [
       "(31647,)"
      ]
     },
     "execution_count": 719,
     "metadata": {},
     "output_type": "execute_result"
    }
   ],
   "source": [
    "y.shape"
   ]
  },
  {
   "cell_type": "code",
   "execution_count": 720,
   "id": "96910353",
   "metadata": {},
   "outputs": [
    {
     "name": "stdout",
     "output_type": "stream",
     "text": [
      "0.8747761979989468\n",
      "[[8194  178]\n",
      " [1011  112]]\n",
      "              precision    recall  f1-score   support\n",
      "\n",
      "           0       0.89      0.98      0.93      8372\n",
      "           1       0.39      0.10      0.16      1123\n",
      "\n",
      "    accuracy                           0.87      9495\n",
      "   macro avg       0.64      0.54      0.55      9495\n",
      "weighted avg       0.83      0.87      0.84      9495\n",
      "\n"
     ]
    }
   ],
   "source": [
    "#Logistic Regression\n",
    "from sklearn.linear_model import LogisticRegression\n",
    "LR=LogisticRegression()\n",
    "LR.fit(x_train,y_train)\n",
    "predLR=LR.predict(x_test)\n",
    "print(accuracy_score(y_test,predLR))\n",
    "print(confusion_matrix(y_test,predLR))\n",
    "print(classification_report(y_test,predLR))"
   ]
  },
  {
   "cell_type": "code",
   "execution_count": 721,
   "id": "4063a45f",
   "metadata": {},
   "outputs": [
    {
     "name": "stdout",
     "output_type": "stream",
     "text": [
      "0.9027909426013692\n",
      "[[8139  233]\n",
      " [ 690  433]]\n",
      "              precision    recall  f1-score   support\n",
      "\n",
      "           0       0.92      0.97      0.95      8372\n",
      "           1       0.65      0.39      0.48      1123\n",
      "\n",
      "    accuracy                           0.90      9495\n",
      "   macro avg       0.79      0.68      0.72      9495\n",
      "weighted avg       0.89      0.90      0.89      9495\n",
      "\n"
     ]
    }
   ],
   "source": [
    "ABC=AdaBoostClassifier()\n",
    "ABC.fit(x_train,y_train)\n",
    "predABC=ABC.predict(x_test)\n",
    "print(accuracy_score(y_test,predABC))\n",
    "print(confusion_matrix(y_test,predABC))\n",
    "print(classification_report(y_test,predABC))"
   ]
  },
  {
   "cell_type": "code",
   "execution_count": 722,
   "id": "1c6c1e55",
   "metadata": {},
   "outputs": [
    {
     "name": "stdout",
     "output_type": "stream",
     "text": [
      "0.9070036861506056\n",
      "[[8166  206]\n",
      " [ 677  446]]\n",
      "              precision    recall  f1-score   support\n",
      "\n",
      "           0       0.92      0.98      0.95      8372\n",
      "           1       0.68      0.40      0.50      1123\n",
      "\n",
      "    accuracy                           0.91      9495\n",
      "   macro avg       0.80      0.69      0.73      9495\n",
      "weighted avg       0.90      0.91      0.90      9495\n",
      "\n"
     ]
    }
   ],
   "source": [
    "#now checking accuracy for ExtraTree Classifier\n",
    "ET=ExtraTreesClassifier()\n",
    "ET.fit(x_train,y_train)\n",
    "predET=ET.predict(x_test)\n",
    "print(accuracy_score(y_test,predET))\n",
    "print(confusion_matrix(y_test,predET))\n",
    "print(classification_report(y_test,predET))\n"
   ]
  },
  {
   "cell_type": "code",
   "execution_count": 723,
   "id": "16fe60e8",
   "metadata": {},
   "outputs": [
    {
     "name": "stdout",
     "output_type": "stream",
     "text": [
      "0.881727224855187\n",
      "[[8372    0]\n",
      " [1123    0]]\n",
      "              precision    recall  f1-score   support\n",
      "\n",
      "           0       0.88      1.00      0.94      8372\n",
      "           1       0.00      0.00      0.00      1123\n",
      "\n",
      "    accuracy                           0.88      9495\n",
      "   macro avg       0.44      0.50      0.47      9495\n",
      "weighted avg       0.78      0.88      0.83      9495\n",
      "\n"
     ]
    }
   ],
   "source": [
    "svc=SVC()\n",
    "svc.fit(x_train,y_train)\n",
    "pr=svc.predict(x_test)\n",
    "print(accuracy_score(y_test,pr))\n",
    "print(confusion_matrix(y_test,pr))\n",
    "print(classification_report(y_test,pr))\n"
   ]
  },
  {
   "cell_type": "code",
   "execution_count": 724,
   "id": "c8fee6f8",
   "metadata": {},
   "outputs": [
    {
     "name": "stdout",
     "output_type": "stream",
     "text": [
      "0.8883622959452343\n",
      "[[7867  505]\n",
      " [ 555  568]]\n",
      "              precision    recall  f1-score   support\n",
      "\n",
      "           0       0.93      0.94      0.94      8372\n",
      "           1       0.53      0.51      0.52      1123\n",
      "\n",
      "    accuracy                           0.89      9495\n",
      "   macro avg       0.73      0.72      0.73      9495\n",
      "weighted avg       0.89      0.89      0.89      9495\n",
      "\n"
     ]
    }
   ],
   "source": [
    "dtc=DecisionTreeClassifier()\n",
    "dtc.fit(x_train,y_train)\n",
    "pr=dtc.predict(x_test)\n",
    "print(accuracy_score(y_test,pr))\n",
    "print(confusion_matrix(y_test,pr))\n",
    "print(classification_report(y_test,pr))\n",
    "\n"
   ]
  },
  {
   "cell_type": "code",
   "execution_count": 725,
   "id": "6d3c1c0b",
   "metadata": {},
   "outputs": [
    {
     "name": "stdout",
     "output_type": "stream",
     "text": [
      "0.9113217482885729\n",
      "[[8100  272]\n",
      " [ 570  553]]\n",
      "              precision    recall  f1-score   support\n",
      "\n",
      "           0       0.93      0.97      0.95      8372\n",
      "           1       0.67      0.49      0.57      1123\n",
      "\n",
      "    accuracy                           0.91      9495\n",
      "   macro avg       0.80      0.73      0.76      9495\n",
      "weighted avg       0.90      0.91      0.91      9495\n",
      "\n"
     ]
    }
   ],
   "source": [
    "rfc=RandomForestClassifier()\n",
    "rfc.fit(x_train,y_train)\n",
    "pr=rfc.predict(x_test)\n",
    "print(accuracy_score(y_test,pr))\n",
    "print(confusion_matrix(y_test,pr))\n",
    "print(classification_report(y_test,pr))"
   ]
  },
  {
   "cell_type": "code",
   "execution_count": 726,
   "id": "971073f7",
   "metadata": {},
   "outputs": [
    {
     "name": "stdout",
     "output_type": "stream",
     "text": [
      "0.8889942074776198\n",
      "[[8090  282]\n",
      " [ 772  351]]\n",
      "              precision    recall  f1-score   support\n",
      "\n",
      "           0       0.91      0.97      0.94      8372\n",
      "           1       0.55      0.31      0.40      1123\n",
      "\n",
      "    accuracy                           0.89      9495\n",
      "   macro avg       0.73      0.64      0.67      9495\n",
      "weighted avg       0.87      0.89      0.88      9495\n",
      "\n"
     ]
    }
   ],
   "source": [
    "knn=KNeighborsClassifier()\n",
    "knn.fit(x_train,y_train)\n",
    "pr=knn.predict(x_test)\n",
    "print(accuracy_score(y_test,pr))\n",
    "print(confusion_matrix(y_test,pr))\n",
    "print(classification_report(y_test,pr))"
   ]
  },
  {
   "cell_type": "code",
   "execution_count": 727,
   "id": "0dc36de0",
   "metadata": {},
   "outputs": [
    {
     "name": "stdout",
     "output_type": "stream",
     "text": [
      "0.9068983675618747\n",
      "[[8167  205]\n",
      " [ 679  444]]\n",
      "              precision    recall  f1-score   support\n",
      "\n",
      "           0       0.92      0.98      0.95      8372\n",
      "           1       0.68      0.40      0.50      1123\n",
      "\n",
      "    accuracy                           0.91      9495\n",
      "   macro avg       0.80      0.69      0.72      9495\n",
      "weighted avg       0.89      0.91      0.90      9495\n",
      "\n"
     ]
    }
   ],
   "source": [
    "etc=ExtraTreesClassifier()\n",
    "etc.fit(x_train,y_train)\n",
    "pr=etc.predict(x_test)\n",
    "print(accuracy_score(y_test,pr))\n",
    "print(confusion_matrix(y_test,pr))\n",
    "print(classification_report(y_test,pr))"
   ]
  },
  {
   "cell_type": "code",
   "execution_count": 728,
   "id": "4d05afb4",
   "metadata": {},
   "outputs": [],
   "source": [
    "from sklearn.model_selection import cross_val_score"
   ]
  },
  {
   "cell_type": "code",
   "execution_count": 729,
   "id": "deaf1041",
   "metadata": {},
   "outputs": [
    {
     "name": "stdout",
     "output_type": "stream",
     "text": [
      "[0.9121643  0.91232227 0.90930637 0.91467846 0.9112024 ]\n",
      "0.9119347610500274\n",
      "difference between accuracy score and crossvalidation score is - -0.005036393488152657\n"
     ]
    }
   ],
   "source": [
    "#checking CV score for random data classifier\n",
    "score=cross_val_score(rfc,x,y)\n",
    "print(score)\n",
    "print(score.mean())\n",
    "print('difference between accuracy score and crossvalidation score is -',accuracy_score(y_test,pr)-score.mean())"
   ]
  },
  {
   "cell_type": "code",
   "execution_count": 730,
   "id": "a968e304",
   "metadata": {},
   "outputs": [
    {
     "name": "stdout",
     "output_type": "stream",
     "text": [
      "[0.88104265 0.87614534 0.87043767 0.87470374 0.87612577]\n",
      "0.875691035298035\n",
      "difference between accuracy score and crossvalidation score is - -0.0009148372990882558\n"
     ]
    }
   ],
   "source": [
    "#checking CV score for Logistic Regression\n",
    "score=cross_val_score(LR,x,y)\n",
    "print(score)\n",
    "print(score.mean())\n",
    "print('difference between accuracy score and crossvalidation score is -',accuracy_score(y_test,predLR)-score.mean())"
   ]
  },
  {
   "cell_type": "code",
   "execution_count": 731,
   "id": "c6e9b14f",
   "metadata": {},
   "outputs": [
    {
     "name": "stdout",
     "output_type": "stream",
     "text": [
      "[0.90394945 0.90458136 0.89872018 0.90646232 0.90314426]\n",
      "0.9033715111137404\n",
      "difference between accuracy score and crossvalidation score is - -0.0005805685123712045\n"
     ]
    }
   ],
   "source": [
    "#checking CV score for ADA Boost Model\n",
    "score=cross_val_score(ABC,x,y)\n",
    "print(score)\n",
    "print(score.mean())\n",
    "print('difference between accuracy score and crossvalidation score is -',accuracy_score(y_test,predABC)-score.mean())"
   ]
  },
  {
   "cell_type": "code",
   "execution_count": 732,
   "id": "cf6c7dc3",
   "metadata": {},
   "outputs": [
    {
     "name": "stdout",
     "output_type": "stream",
     "text": [
      "[0.90995261 0.90537125 0.90646232 0.90930637 0.9053563 ]\n",
      "0.9072897669819984\n",
      "difference between accuracy score and crossvalidation score is - -0.0002860808313928098\n"
     ]
    }
   ],
   "source": [
    "#checking CV score for Extra tree classifier\n",
    "score=cross_val_score(ET,x,y)\n",
    "print(score)\n",
    "print(score.mean())\n",
    "print('difference between accuracy score and crossvalidation score is -',accuracy_score(y_test,predET)-score.mean())"
   ]
  },
  {
   "cell_type": "code",
   "execution_count": 733,
   "id": "4fb7078f",
   "metadata": {},
   "outputs": [
    {
     "name": "stdout",
     "output_type": "stream",
     "text": [
      "[0.88088468 0.88546603 0.88449992 0.88244588 0.88260389]\n",
      "0.8831800805589856\n",
      "difference between accuracy score and crossvalidation score is - 0.023718287002889138\n"
     ]
    }
   ],
   "source": [
    "#cross validation for KNN\n",
    "\n",
    "score=cross_val_score(knn,x,y)\n",
    "print(score)\n",
    "print(score.mean())\n",
    "print('difference between accuracy score and crossvalidation score is -',accuracy_score(y_test,pr)-score.mean())"
   ]
  },
  {
   "cell_type": "code",
   "execution_count": 734,
   "id": "b23cdc4a",
   "metadata": {},
   "outputs": [
    {
     "name": "stdout",
     "output_type": "stream",
     "text": [
      "[0.88262243 0.88262243 0.88260389 0.88260389 0.88260389]\n",
      "0.882611305265738\n",
      "difference between accuracy score and crossvalidation score is - 0.02428706229613664\n"
     ]
    }
   ],
   "source": [
    "#cross validation for KNN\n",
    "\n",
    "score=cross_val_score(svc,x,y)\n",
    "print(score)\n",
    "print(score.mean())\n",
    "print('difference between accuracy score and crossvalidation score is -',accuracy_score(y_test,pr)-score.mean())"
   ]
  },
  {
   "cell_type": "code",
   "execution_count": 735,
   "id": "5540bea9",
   "metadata": {},
   "outputs": [],
   "source": [
    "#LR  have least difference so we consider it as best performing ==hypertuning\n",
    "from sklearn.model_selection import GridSearchCV\n",
    "\n",
    "param_grid = [{'penalty' : ['l1', 'l2', 'elasticnet', 'none'],'C' : np.logspace(-4, 4, 20),'solver' : ['lbfgs','newton-cg','liblinear','sag','saga'],'max_iter' : [100, 1000,2500, 5000]}]"
   ]
  },
  {
   "cell_type": "code",
   "execution_count": 736,
   "id": "cf6892ba",
   "metadata": {},
   "outputs": [],
   "source": [
    "GCV=GridSearchCV (LogisticRegression(),param_grid ,cv=5)"
   ]
  },
  {
   "cell_type": "code",
   "execution_count": null,
   "id": "3a6b72bc",
   "metadata": {},
   "outputs": [],
   "source": [
    "GCV.fit(x_train,y_train)"
   ]
  },
  {
   "cell_type": "code",
   "execution_count": null,
   "id": "7f6fabc4",
   "metadata": {},
   "outputs": [],
   "source": [
    "LR=LogisticRegression()\n",
    "LR.fit(x_train,y_train)\n",
    "predLR=LR.predict(x_test)\n",
    "print(accuracy_score(y_test,predLR))\n",
    "print(confusion_matrix(y_test,predLR))\n",
    "print(classification_report(y_test,predLR))"
   ]
  },
  {
   "cell_type": "code",
   "execution_count": null,
   "id": "40f2ee6b",
   "metadata": {},
   "outputs": [],
   "source": []
  }
 ],
 "metadata": {
  "kernelspec": {
   "display_name": "Python 3 (ipykernel)",
   "language": "python",
   "name": "python3"
  },
  "language_info": {
   "codemirror_mode": {
    "name": "ipython",
    "version": 3
   },
   "file_extension": ".py",
   "mimetype": "text/x-python",
   "name": "python",
   "nbconvert_exporter": "python",
   "pygments_lexer": "ipython3",
   "version": "3.10.9"
  }
 },
 "nbformat": 4,
 "nbformat_minor": 5
}
